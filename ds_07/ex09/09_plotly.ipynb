{
 "cells": [
  {
   "cell_type": "code",
   "execution_count": 12,
   "metadata": {},
   "outputs": [],
   "source": [
    "import pandas as pd\n",
    "import sqlite3\n",
    "import plotly.graph_objects as go\n",
    "import numpy as np\n",
    "\n",
    "conn = sqlite3.connect(\"../data/checking-logs.sqlite\")"
   ]
  },
  {
   "cell_type": "code",
   "execution_count": 13,
   "metadata": {},
   "outputs": [],
   "source": [
    "query = \"\"\"\n",
    "    SELECT timestamp, uid\n",
    "    FROM checker\n",
    "    WHERE uid LIKE 'user_%'\n",
    "      AND status = 'ready'\n",
    "      AND labname = 'project1'\n",
    "\"\"\"\n",
    "df = pd.read_sql_query(query, conn)\n",
    "df['timestamp'] = pd.to_datetime(df['timestamp'])\n",
    "df['date'] = df['timestamp'].dt.date"
   ]
  },
  {
   "cell_type": "code",
   "execution_count": 14,
   "metadata": {},
   "outputs": [],
   "source": [
    "# Cumulative commits\n",
    "df = df.sort_values('timestamp')\n",
    "cumulative = df.groupby(['uid', 'date']).size().groupby(level=0).cumsum().reset_index(name='cumulative_commits')\n",
    "\n",
    "# Get top 18 users by maximum total commits\n",
    "top_users = cumulative.groupby('uid')['cumulative_commits'].max().nlargest(18).index.tolist()\n",
    "cumulative_top = cumulative[cumulative['uid'].isin(top_users)]"
   ]
  },
  {
   "cell_type": "code",
   "execution_count": 15,
   "metadata": {},
   "outputs": [
    {
     "data": {
      "application/vnd.plotly.v1+json": {
       "config": {
        "plotlyServerURL": "https://plot.ly"
       },
       "data": [
        {
         "line": {
          "width": 3
         },
         "mode": "lines",
         "name": "user_4",
         "type": "scatter",
         "x": [
          "2020-04-17"
         ],
         "y": {
          "bdata": "Bw==",
          "dtype": "i1"
         }
        },
        {
         "line": {
          "width": 3
         },
         "mode": "lines",
         "name": "user_14",
         "type": "scatter",
         "x": [],
         "y": []
        },
        {
         "line": {
          "width": 3
         },
         "mode": "lines",
         "name": "user_2",
         "type": "scatter",
         "x": [],
         "y": []
        },
        {
         "line": {
          "width": 3
         },
         "mode": "lines",
         "name": "user_25",
         "type": "scatter",
         "x": [],
         "y": []
        },
        {
         "line": {
          "width": 3
         },
         "mode": "lines",
         "name": "user_26",
         "type": "scatter",
         "x": [],
         "y": []
        },
        {
         "line": {
          "width": 3
         },
         "mode": "lines",
         "name": "user_10",
         "type": "scatter",
         "x": [],
         "y": []
        },
        {
         "line": {
          "width": 3
         },
         "mode": "lines",
         "name": "user_3",
         "type": "scatter",
         "x": [],
         "y": []
        },
        {
         "line": {
          "width": 3
         },
         "mode": "lines",
         "name": "user_20",
         "type": "scatter",
         "x": [],
         "y": []
        },
        {
         "line": {
          "width": 3
         },
         "mode": "lines",
         "name": "user_29",
         "type": "scatter",
         "x": [],
         "y": []
        },
        {
         "line": {
          "width": 3
         },
         "mode": "lines",
         "name": "user_24",
         "type": "scatter",
         "x": [],
         "y": []
        },
        {
         "line": {
          "width": 3
         },
         "mode": "lines",
         "name": "user_13",
         "type": "scatter",
         "x": [],
         "y": []
        },
        {
         "line": {
          "width": 3
         },
         "mode": "lines",
         "name": "user_18",
         "type": "scatter",
         "x": [],
         "y": []
        },
        {
         "line": {
          "width": 3
         },
         "mode": "lines",
         "name": "user_19",
         "type": "scatter",
         "x": [],
         "y": []
        },
        {
         "line": {
          "width": 3
         },
         "mode": "lines",
         "name": "user_28",
         "type": "scatter",
         "x": [],
         "y": []
        },
        {
         "line": {
          "width": 3
         },
         "mode": "lines",
         "name": "user_30",
         "type": "scatter",
         "x": [],
         "y": []
        },
        {
         "line": {
          "width": 3
         },
         "mode": "lines",
         "name": "user_1",
         "type": "scatter",
         "x": [],
         "y": []
        },
        {
         "line": {
          "width": 3
         },
         "mode": "lines",
         "name": "user_16",
         "type": "scatter",
         "x": [],
         "y": []
        },
        {
         "line": {
          "width": 3
         },
         "mode": "lines",
         "name": "user_21",
         "type": "scatter",
         "x": [],
         "y": []
        }
       ],
       "frames": [
        {
         "data": [
          {
           "line": {
            "width": 3
           },
           "mode": "lines",
           "name": "user_4",
           "type": "scatter",
           "x": [
            "2020-04-17"
           ],
           "y": {
            "bdata": "Bw==",
            "dtype": "i1"
           }
          },
          {
           "line": {
            "width": 3
           },
           "mode": "lines",
           "name": "user_14",
           "type": "scatter",
           "x": [],
           "y": []
          },
          {
           "line": {
            "width": 3
           },
           "mode": "lines",
           "name": "user_2",
           "type": "scatter",
           "x": [],
           "y": []
          },
          {
           "line": {
            "width": 3
           },
           "mode": "lines",
           "name": "user_25",
           "type": "scatter",
           "x": [],
           "y": []
          },
          {
           "line": {
            "width": 3
           },
           "mode": "lines",
           "name": "user_26",
           "type": "scatter",
           "x": [],
           "y": []
          },
          {
           "line": {
            "width": 3
           },
           "mode": "lines",
           "name": "user_10",
           "type": "scatter",
           "x": [],
           "y": []
          },
          {
           "line": {
            "width": 3
           },
           "mode": "lines",
           "name": "user_3",
           "type": "scatter",
           "x": [],
           "y": []
          },
          {
           "line": {
            "width": 3
           },
           "mode": "lines",
           "name": "user_20",
           "type": "scatter",
           "x": [],
           "y": []
          },
          {
           "line": {
            "width": 3
           },
           "mode": "lines",
           "name": "user_29",
           "type": "scatter",
           "x": [],
           "y": []
          },
          {
           "line": {
            "width": 3
           },
           "mode": "lines",
           "name": "user_24",
           "type": "scatter",
           "x": [],
           "y": []
          },
          {
           "line": {
            "width": 3
           },
           "mode": "lines",
           "name": "user_13",
           "type": "scatter",
           "x": [],
           "y": []
          },
          {
           "line": {
            "width": 3
           },
           "mode": "lines",
           "name": "user_18",
           "type": "scatter",
           "x": [],
           "y": []
          },
          {
           "line": {
            "width": 3
           },
           "mode": "lines",
           "name": "user_19",
           "type": "scatter",
           "x": [],
           "y": []
          },
          {
           "line": {
            "width": 3
           },
           "mode": "lines",
           "name": "user_28",
           "type": "scatter",
           "x": [],
           "y": []
          },
          {
           "line": {
            "width": 3
           },
           "mode": "lines",
           "name": "user_30",
           "type": "scatter",
           "x": [],
           "y": []
          },
          {
           "line": {
            "width": 3
           },
           "mode": "lines",
           "name": "user_1",
           "type": "scatter",
           "x": [],
           "y": []
          },
          {
           "line": {
            "width": 3
           },
           "mode": "lines",
           "name": "user_16",
           "type": "scatter",
           "x": [],
           "y": []
          },
          {
           "line": {
            "width": 3
           },
           "mode": "lines",
           "name": "user_21",
           "type": "scatter",
           "x": [],
           "y": []
          }
         ],
         "name": "2020-04-17"
        },
        {
         "data": [
          {
           "line": {
            "width": 3
           },
           "mode": "lines",
           "name": "user_4",
           "type": "scatter",
           "x": [
            "2020-04-17",
            "2020-04-19"
           ],
           "y": {
            "bdata": "Bws=",
            "dtype": "i1"
           }
          },
          {
           "line": {
            "width": 3
           },
           "mode": "lines",
           "name": "user_14",
           "type": "scatter",
           "x": [],
           "y": []
          },
          {
           "line": {
            "width": 3
           },
           "mode": "lines",
           "name": "user_2",
           "type": "scatter",
           "x": [],
           "y": []
          },
          {
           "line": {
            "width": 3
           },
           "mode": "lines",
           "name": "user_25",
           "type": "scatter",
           "x": [],
           "y": []
          },
          {
           "line": {
            "width": 3
           },
           "mode": "lines",
           "name": "user_26",
           "type": "scatter",
           "x": [],
           "y": []
          },
          {
           "line": {
            "width": 3
           },
           "mode": "lines",
           "name": "user_10",
           "type": "scatter",
           "x": [],
           "y": []
          },
          {
           "line": {
            "width": 3
           },
           "mode": "lines",
           "name": "user_3",
           "type": "scatter",
           "x": [],
           "y": []
          },
          {
           "line": {
            "width": 3
           },
           "mode": "lines",
           "name": "user_20",
           "type": "scatter",
           "x": [],
           "y": []
          },
          {
           "line": {
            "width": 3
           },
           "mode": "lines",
           "name": "user_29",
           "type": "scatter",
           "x": [],
           "y": []
          },
          {
           "line": {
            "width": 3
           },
           "mode": "lines",
           "name": "user_24",
           "type": "scatter",
           "x": [],
           "y": []
          },
          {
           "line": {
            "width": 3
           },
           "mode": "lines",
           "name": "user_13",
           "type": "scatter",
           "x": [],
           "y": []
          },
          {
           "line": {
            "width": 3
           },
           "mode": "lines",
           "name": "user_18",
           "type": "scatter",
           "x": [],
           "y": []
          },
          {
           "line": {
            "width": 3
           },
           "mode": "lines",
           "name": "user_19",
           "type": "scatter",
           "x": [],
           "y": []
          },
          {
           "line": {
            "width": 3
           },
           "mode": "lines",
           "name": "user_28",
           "type": "scatter",
           "x": [],
           "y": []
          },
          {
           "line": {
            "width": 3
           },
           "mode": "lines",
           "name": "user_30",
           "type": "scatter",
           "x": [],
           "y": []
          },
          {
           "line": {
            "width": 3
           },
           "mode": "lines",
           "name": "user_1",
           "type": "scatter",
           "x": [],
           "y": []
          },
          {
           "line": {
            "width": 3
           },
           "mode": "lines",
           "name": "user_16",
           "type": "scatter",
           "x": [],
           "y": []
          },
          {
           "line": {
            "width": 3
           },
           "mode": "lines",
           "name": "user_21",
           "type": "scatter",
           "x": [],
           "y": []
          }
         ],
         "name": "2020-04-19"
        },
        {
         "data": [
          {
           "line": {
            "width": 3
           },
           "mode": "lines",
           "name": "user_4",
           "type": "scatter",
           "x": [
            "2020-04-17",
            "2020-04-19"
           ],
           "y": {
            "bdata": "Bws=",
            "dtype": "i1"
           }
          },
          {
           "line": {
            "width": 3
           },
           "mode": "lines",
           "name": "user_14",
           "type": "scatter",
           "x": [],
           "y": []
          },
          {
           "line": {
            "width": 3
           },
           "mode": "lines",
           "name": "user_2",
           "type": "scatter",
           "x": [],
           "y": []
          },
          {
           "line": {
            "width": 3
           },
           "mode": "lines",
           "name": "user_25",
           "type": "scatter",
           "x": [],
           "y": []
          },
          {
           "line": {
            "width": 3
           },
           "mode": "lines",
           "name": "user_26",
           "type": "scatter",
           "x": [],
           "y": []
          },
          {
           "line": {
            "width": 3
           },
           "mode": "lines",
           "name": "user_10",
           "type": "scatter",
           "x": [],
           "y": []
          },
          {
           "line": {
            "width": 3
           },
           "mode": "lines",
           "name": "user_3",
           "type": "scatter",
           "x": [],
           "y": []
          },
          {
           "line": {
            "width": 3
           },
           "mode": "lines",
           "name": "user_20",
           "type": "scatter",
           "x": [],
           "y": []
          },
          {
           "line": {
            "width": 3
           },
           "mode": "lines",
           "name": "user_29",
           "type": "scatter",
           "x": [],
           "y": []
          },
          {
           "line": {
            "width": 3
           },
           "mode": "lines",
           "name": "user_24",
           "type": "scatter",
           "x": [],
           "y": []
          },
          {
           "line": {
            "width": 3
           },
           "mode": "lines",
           "name": "user_13",
           "type": "scatter",
           "x": [],
           "y": []
          },
          {
           "line": {
            "width": 3
           },
           "mode": "lines",
           "name": "user_18",
           "type": "scatter",
           "x": [],
           "y": []
          },
          {
           "line": {
            "width": 3
           },
           "mode": "lines",
           "name": "user_19",
           "type": "scatter",
           "x": [],
           "y": []
          },
          {
           "line": {
            "width": 3
           },
           "mode": "lines",
           "name": "user_28",
           "type": "scatter",
           "x": [],
           "y": []
          },
          {
           "line": {
            "width": 3
           },
           "mode": "lines",
           "name": "user_30",
           "type": "scatter",
           "x": [
            "2020-04-22"
           ],
           "y": {
            "bdata": "AQ==",
            "dtype": "i1"
           }
          },
          {
           "line": {
            "width": 3
           },
           "mode": "lines",
           "name": "user_1",
           "type": "scatter",
           "x": [],
           "y": []
          },
          {
           "line": {
            "width": 3
           },
           "mode": "lines",
           "name": "user_16",
           "type": "scatter",
           "x": [],
           "y": []
          },
          {
           "line": {
            "width": 3
           },
           "mode": "lines",
           "name": "user_21",
           "type": "scatter",
           "x": [],
           "y": []
          }
         ],
         "name": "2020-04-22"
        },
        {
         "data": [
          {
           "line": {
            "width": 3
           },
           "mode": "lines",
           "name": "user_4",
           "type": "scatter",
           "x": [
            "2020-04-17",
            "2020-04-19",
            "2020-04-23"
           ],
           "y": {
            "bdata": "BwsU",
            "dtype": "i1"
           }
          },
          {
           "line": {
            "width": 3
           },
           "mode": "lines",
           "name": "user_14",
           "type": "scatter",
           "x": [],
           "y": []
          },
          {
           "line": {
            "width": 3
           },
           "mode": "lines",
           "name": "user_2",
           "type": "scatter",
           "x": [],
           "y": []
          },
          {
           "line": {
            "width": 3
           },
           "mode": "lines",
           "name": "user_25",
           "type": "scatter",
           "x": [],
           "y": []
          },
          {
           "line": {
            "width": 3
           },
           "mode": "lines",
           "name": "user_26",
           "type": "scatter",
           "x": [],
           "y": []
          },
          {
           "line": {
            "width": 3
           },
           "mode": "lines",
           "name": "user_10",
           "type": "scatter",
           "x": [],
           "y": []
          },
          {
           "line": {
            "width": 3
           },
           "mode": "lines",
           "name": "user_3",
           "type": "scatter",
           "x": [],
           "y": []
          },
          {
           "line": {
            "width": 3
           },
           "mode": "lines",
           "name": "user_20",
           "type": "scatter",
           "x": [],
           "y": []
          },
          {
           "line": {
            "width": 3
           },
           "mode": "lines",
           "name": "user_29",
           "type": "scatter",
           "x": [],
           "y": []
          },
          {
           "line": {
            "width": 3
           },
           "mode": "lines",
           "name": "user_24",
           "type": "scatter",
           "x": [],
           "y": []
          },
          {
           "line": {
            "width": 3
           },
           "mode": "lines",
           "name": "user_13",
           "type": "scatter",
           "x": [],
           "y": []
          },
          {
           "line": {
            "width": 3
           },
           "mode": "lines",
           "name": "user_18",
           "type": "scatter",
           "x": [],
           "y": []
          },
          {
           "line": {
            "width": 3
           },
           "mode": "lines",
           "name": "user_19",
           "type": "scatter",
           "x": [],
           "y": []
          },
          {
           "line": {
            "width": 3
           },
           "mode": "lines",
           "name": "user_28",
           "type": "scatter",
           "x": [],
           "y": []
          },
          {
           "line": {
            "width": 3
           },
           "mode": "lines",
           "name": "user_30",
           "type": "scatter",
           "x": [
            "2020-04-22",
            "2020-04-23"
           ],
           "y": {
            "bdata": "AQI=",
            "dtype": "i1"
           }
          },
          {
           "line": {
            "width": 3
           },
           "mode": "lines",
           "name": "user_1",
           "type": "scatter",
           "x": [],
           "y": []
          },
          {
           "line": {
            "width": 3
           },
           "mode": "lines",
           "name": "user_16",
           "type": "scatter",
           "x": [],
           "y": []
          },
          {
           "line": {
            "width": 3
           },
           "mode": "lines",
           "name": "user_21",
           "type": "scatter",
           "x": [],
           "y": []
          }
         ],
         "name": "2020-04-23"
        },
        {
         "data": [
          {
           "line": {
            "width": 3
           },
           "mode": "lines",
           "name": "user_4",
           "type": "scatter",
           "x": [
            "2020-04-17",
            "2020-04-19",
            "2020-04-23",
            "2020-04-24"
           ],
           "y": {
            "bdata": "BwsUGw==",
            "dtype": "i1"
           }
          },
          {
           "line": {
            "width": 3
           },
           "mode": "lines",
           "name": "user_14",
           "type": "scatter",
           "x": [],
           "y": []
          },
          {
           "line": {
            "width": 3
           },
           "mode": "lines",
           "name": "user_2",
           "type": "scatter",
           "x": [],
           "y": []
          },
          {
           "line": {
            "width": 3
           },
           "mode": "lines",
           "name": "user_25",
           "type": "scatter",
           "x": [],
           "y": []
          },
          {
           "line": {
            "width": 3
           },
           "mode": "lines",
           "name": "user_26",
           "type": "scatter",
           "x": [],
           "y": []
          },
          {
           "line": {
            "width": 3
           },
           "mode": "lines",
           "name": "user_10",
           "type": "scatter",
           "x": [],
           "y": []
          },
          {
           "line": {
            "width": 3
           },
           "mode": "lines",
           "name": "user_3",
           "type": "scatter",
           "x": [],
           "y": []
          },
          {
           "line": {
            "width": 3
           },
           "mode": "lines",
           "name": "user_20",
           "type": "scatter",
           "x": [],
           "y": []
          },
          {
           "line": {
            "width": 3
           },
           "mode": "lines",
           "name": "user_29",
           "type": "scatter",
           "x": [],
           "y": []
          },
          {
           "line": {
            "width": 3
           },
           "mode": "lines",
           "name": "user_24",
           "type": "scatter",
           "x": [],
           "y": []
          },
          {
           "line": {
            "width": 3
           },
           "mode": "lines",
           "name": "user_13",
           "type": "scatter",
           "x": [],
           "y": []
          },
          {
           "line": {
            "width": 3
           },
           "mode": "lines",
           "name": "user_18",
           "type": "scatter",
           "x": [],
           "y": []
          },
          {
           "line": {
            "width": 3
           },
           "mode": "lines",
           "name": "user_19",
           "type": "scatter",
           "x": [],
           "y": []
          },
          {
           "line": {
            "width": 3
           },
           "mode": "lines",
           "name": "user_28",
           "type": "scatter",
           "x": [],
           "y": []
          },
          {
           "line": {
            "width": 3
           },
           "mode": "lines",
           "name": "user_30",
           "type": "scatter",
           "x": [
            "2020-04-22",
            "2020-04-23"
           ],
           "y": {
            "bdata": "AQI=",
            "dtype": "i1"
           }
          },
          {
           "line": {
            "width": 3
           },
           "mode": "lines",
           "name": "user_1",
           "type": "scatter",
           "x": [],
           "y": []
          },
          {
           "line": {
            "width": 3
           },
           "mode": "lines",
           "name": "user_16",
           "type": "scatter",
           "x": [],
           "y": []
          },
          {
           "line": {
            "width": 3
           },
           "mode": "lines",
           "name": "user_21",
           "type": "scatter",
           "x": [],
           "y": []
          }
         ],
         "name": "2020-04-24"
        },
        {
         "data": [
          {
           "line": {
            "width": 3
           },
           "mode": "lines",
           "name": "user_4",
           "type": "scatter",
           "x": [
            "2020-04-17",
            "2020-04-19",
            "2020-04-23",
            "2020-04-24",
            "2020-05-03"
           ],
           "y": {
            "bdata": "BwsUGyM=",
            "dtype": "i1"
           }
          },
          {
           "line": {
            "width": 3
           },
           "mode": "lines",
           "name": "user_14",
           "type": "scatter",
           "x": [],
           "y": []
          },
          {
           "line": {
            "width": 3
           },
           "mode": "lines",
           "name": "user_2",
           "type": "scatter",
           "x": [],
           "y": []
          },
          {
           "line": {
            "width": 3
           },
           "mode": "lines",
           "name": "user_25",
           "type": "scatter",
           "x": [],
           "y": []
          },
          {
           "line": {
            "width": 3
           },
           "mode": "lines",
           "name": "user_26",
           "type": "scatter",
           "x": [],
           "y": []
          },
          {
           "line": {
            "width": 3
           },
           "mode": "lines",
           "name": "user_10",
           "type": "scatter",
           "x": [],
           "y": []
          },
          {
           "line": {
            "width": 3
           },
           "mode": "lines",
           "name": "user_3",
           "type": "scatter",
           "x": [],
           "y": []
          },
          {
           "line": {
            "width": 3
           },
           "mode": "lines",
           "name": "user_20",
           "type": "scatter",
           "x": [],
           "y": []
          },
          {
           "line": {
            "width": 3
           },
           "mode": "lines",
           "name": "user_29",
           "type": "scatter",
           "x": [],
           "y": []
          },
          {
           "line": {
            "width": 3
           },
           "mode": "lines",
           "name": "user_24",
           "type": "scatter",
           "x": [],
           "y": []
          },
          {
           "line": {
            "width": 3
           },
           "mode": "lines",
           "name": "user_13",
           "type": "scatter",
           "x": [],
           "y": []
          },
          {
           "line": {
            "width": 3
           },
           "mode": "lines",
           "name": "user_18",
           "type": "scatter",
           "x": [],
           "y": []
          },
          {
           "line": {
            "width": 3
           },
           "mode": "lines",
           "name": "user_19",
           "type": "scatter",
           "x": [],
           "y": []
          },
          {
           "line": {
            "width": 3
           },
           "mode": "lines",
           "name": "user_28",
           "type": "scatter",
           "x": [],
           "y": []
          },
          {
           "line": {
            "width": 3
           },
           "mode": "lines",
           "name": "user_30",
           "type": "scatter",
           "x": [
            "2020-04-22",
            "2020-04-23",
            "2020-05-03"
           ],
           "y": {
            "bdata": "AQIE",
            "dtype": "i1"
           }
          },
          {
           "line": {
            "width": 3
           },
           "mode": "lines",
           "name": "user_1",
           "type": "scatter",
           "x": [],
           "y": []
          },
          {
           "line": {
            "width": 3
           },
           "mode": "lines",
           "name": "user_16",
           "type": "scatter",
           "x": [],
           "y": []
          },
          {
           "line": {
            "width": 3
           },
           "mode": "lines",
           "name": "user_21",
           "type": "scatter",
           "x": [],
           "y": []
          }
         ],
         "name": "2020-05-03"
        },
        {
         "data": [
          {
           "line": {
            "width": 3
           },
           "mode": "lines",
           "name": "user_4",
           "type": "scatter",
           "x": [
            "2020-04-17",
            "2020-04-19",
            "2020-04-23",
            "2020-04-24",
            "2020-05-03",
            "2020-05-04"
           ],
           "y": {
            "bdata": "BwsUGyMw",
            "dtype": "i1"
           }
          },
          {
           "line": {
            "width": 3
           },
           "mode": "lines",
           "name": "user_14",
           "type": "scatter",
           "x": [],
           "y": []
          },
          {
           "line": {
            "width": 3
           },
           "mode": "lines",
           "name": "user_2",
           "type": "scatter",
           "x": [],
           "y": []
          },
          {
           "line": {
            "width": 3
           },
           "mode": "lines",
           "name": "user_25",
           "type": "scatter",
           "x": [],
           "y": []
          },
          {
           "line": {
            "width": 3
           },
           "mode": "lines",
           "name": "user_26",
           "type": "scatter",
           "x": [],
           "y": []
          },
          {
           "line": {
            "width": 3
           },
           "mode": "lines",
           "name": "user_10",
           "type": "scatter",
           "x": [],
           "y": []
          },
          {
           "line": {
            "width": 3
           },
           "mode": "lines",
           "name": "user_3",
           "type": "scatter",
           "x": [],
           "y": []
          },
          {
           "line": {
            "width": 3
           },
           "mode": "lines",
           "name": "user_20",
           "type": "scatter",
           "x": [],
           "y": []
          },
          {
           "line": {
            "width": 3
           },
           "mode": "lines",
           "name": "user_29",
           "type": "scatter",
           "x": [],
           "y": []
          },
          {
           "line": {
            "width": 3
           },
           "mode": "lines",
           "name": "user_24",
           "type": "scatter",
           "x": [],
           "y": []
          },
          {
           "line": {
            "width": 3
           },
           "mode": "lines",
           "name": "user_13",
           "type": "scatter",
           "x": [],
           "y": []
          },
          {
           "line": {
            "width": 3
           },
           "mode": "lines",
           "name": "user_18",
           "type": "scatter",
           "x": [],
           "y": []
          },
          {
           "line": {
            "width": 3
           },
           "mode": "lines",
           "name": "user_19",
           "type": "scatter",
           "x": [],
           "y": []
          },
          {
           "line": {
            "width": 3
           },
           "mode": "lines",
           "name": "user_28",
           "type": "scatter",
           "x": [],
           "y": []
          },
          {
           "line": {
            "width": 3
           },
           "mode": "lines",
           "name": "user_30",
           "type": "scatter",
           "x": [
            "2020-04-22",
            "2020-04-23",
            "2020-05-03",
            "2020-05-04"
           ],
           "y": {
            "bdata": "AQIEBQ==",
            "dtype": "i1"
           }
          },
          {
           "line": {
            "width": 3
           },
           "mode": "lines",
           "name": "user_1",
           "type": "scatter",
           "x": [],
           "y": []
          },
          {
           "line": {
            "width": 3
           },
           "mode": "lines",
           "name": "user_16",
           "type": "scatter",
           "x": [],
           "y": []
          },
          {
           "line": {
            "width": 3
           },
           "mode": "lines",
           "name": "user_21",
           "type": "scatter",
           "x": [],
           "y": []
          }
         ],
         "name": "2020-05-04"
        },
        {
         "data": [
          {
           "line": {
            "width": 3
           },
           "mode": "lines",
           "name": "user_4",
           "type": "scatter",
           "x": [
            "2020-04-17",
            "2020-04-19",
            "2020-04-23",
            "2020-04-24",
            "2020-05-03",
            "2020-05-04",
            "2020-05-05"
           ],
           "y": {
            "bdata": "BwsUGyMwNQ==",
            "dtype": "i1"
           }
          },
          {
           "line": {
            "width": 3
           },
           "mode": "lines",
           "name": "user_14",
           "type": "scatter",
           "x": [
            "2020-05-05"
           ],
           "y": {
            "bdata": "AQ==",
            "dtype": "i1"
           }
          },
          {
           "line": {
            "width": 3
           },
           "mode": "lines",
           "name": "user_2",
           "type": "scatter",
           "x": [
            "2020-05-05"
           ],
           "y": {
            "bdata": "OQ==",
            "dtype": "i1"
           }
          },
          {
           "line": {
            "width": 3
           },
           "mode": "lines",
           "name": "user_25",
           "type": "scatter",
           "x": [],
           "y": []
          },
          {
           "line": {
            "width": 3
           },
           "mode": "lines",
           "name": "user_26",
           "type": "scatter",
           "x": [],
           "y": []
          },
          {
           "line": {
            "width": 3
           },
           "mode": "lines",
           "name": "user_10",
           "type": "scatter",
           "x": [],
           "y": []
          },
          {
           "line": {
            "width": 3
           },
           "mode": "lines",
           "name": "user_3",
           "type": "scatter",
           "x": [],
           "y": []
          },
          {
           "line": {
            "width": 3
           },
           "mode": "lines",
           "name": "user_20",
           "type": "scatter",
           "x": [],
           "y": []
          },
          {
           "line": {
            "width": 3
           },
           "mode": "lines",
           "name": "user_29",
           "type": "scatter",
           "x": [],
           "y": []
          },
          {
           "line": {
            "width": 3
           },
           "mode": "lines",
           "name": "user_24",
           "type": "scatter",
           "x": [],
           "y": []
          },
          {
           "line": {
            "width": 3
           },
           "mode": "lines",
           "name": "user_13",
           "type": "scatter",
           "x": [],
           "y": []
          },
          {
           "line": {
            "width": 3
           },
           "mode": "lines",
           "name": "user_18",
           "type": "scatter",
           "x": [],
           "y": []
          },
          {
           "line": {
            "width": 3
           },
           "mode": "lines",
           "name": "user_19",
           "type": "scatter",
           "x": [],
           "y": []
          },
          {
           "line": {
            "width": 3
           },
           "mode": "lines",
           "name": "user_28",
           "type": "scatter",
           "x": [],
           "y": []
          },
          {
           "line": {
            "width": 3
           },
           "mode": "lines",
           "name": "user_30",
           "type": "scatter",
           "x": [
            "2020-04-22",
            "2020-04-23",
            "2020-05-03",
            "2020-05-04"
           ],
           "y": {
            "bdata": "AQIEBQ==",
            "dtype": "i1"
           }
          },
          {
           "line": {
            "width": 3
           },
           "mode": "lines",
           "name": "user_1",
           "type": "scatter",
           "x": [],
           "y": []
          },
          {
           "line": {
            "width": 3
           },
           "mode": "lines",
           "name": "user_16",
           "type": "scatter",
           "x": [],
           "y": []
          },
          {
           "line": {
            "width": 3
           },
           "mode": "lines",
           "name": "user_21",
           "type": "scatter",
           "x": [],
           "y": []
          }
         ],
         "name": "2020-05-05"
        },
        {
         "data": [
          {
           "line": {
            "width": 3
           },
           "mode": "lines",
           "name": "user_4",
           "type": "scatter",
           "x": [
            "2020-04-17",
            "2020-04-19",
            "2020-04-23",
            "2020-04-24",
            "2020-05-03",
            "2020-05-04",
            "2020-05-05"
           ],
           "y": {
            "bdata": "BwsUGyMwNQ==",
            "dtype": "i1"
           }
          },
          {
           "line": {
            "width": 3
           },
           "mode": "lines",
           "name": "user_14",
           "type": "scatter",
           "x": [
            "2020-05-05"
           ],
           "y": {
            "bdata": "AQ==",
            "dtype": "i1"
           }
          },
          {
           "line": {
            "width": 3
           },
           "mode": "lines",
           "name": "user_2",
           "type": "scatter",
           "x": [
            "2020-05-05",
            "2020-05-06"
           ],
           "y": {
            "bdata": "OTo=",
            "dtype": "i1"
           }
          },
          {
           "line": {
            "width": 3
           },
           "mode": "lines",
           "name": "user_25",
           "type": "scatter",
           "x": [],
           "y": []
          },
          {
           "line": {
            "width": 3
           },
           "mode": "lines",
           "name": "user_26",
           "type": "scatter",
           "x": [],
           "y": []
          },
          {
           "line": {
            "width": 3
           },
           "mode": "lines",
           "name": "user_10",
           "type": "scatter",
           "x": [],
           "y": []
          },
          {
           "line": {
            "width": 3
           },
           "mode": "lines",
           "name": "user_3",
           "type": "scatter",
           "x": [],
           "y": []
          },
          {
           "line": {
            "width": 3
           },
           "mode": "lines",
           "name": "user_20",
           "type": "scatter",
           "x": [],
           "y": []
          },
          {
           "line": {
            "width": 3
           },
           "mode": "lines",
           "name": "user_29",
           "type": "scatter",
           "x": [],
           "y": []
          },
          {
           "line": {
            "width": 3
           },
           "mode": "lines",
           "name": "user_24",
           "type": "scatter",
           "x": [],
           "y": []
          },
          {
           "line": {
            "width": 3
           },
           "mode": "lines",
           "name": "user_13",
           "type": "scatter",
           "x": [],
           "y": []
          },
          {
           "line": {
            "width": 3
           },
           "mode": "lines",
           "name": "user_18",
           "type": "scatter",
           "x": [],
           "y": []
          },
          {
           "line": {
            "width": 3
           },
           "mode": "lines",
           "name": "user_19",
           "type": "scatter",
           "x": [],
           "y": []
          },
          {
           "line": {
            "width": 3
           },
           "mode": "lines",
           "name": "user_28",
           "type": "scatter",
           "x": [],
           "y": []
          },
          {
           "line": {
            "width": 3
           },
           "mode": "lines",
           "name": "user_30",
           "type": "scatter",
           "x": [
            "2020-04-22",
            "2020-04-23",
            "2020-05-03",
            "2020-05-04"
           ],
           "y": {
            "bdata": "AQIEBQ==",
            "dtype": "i1"
           }
          },
          {
           "line": {
            "width": 3
           },
           "mode": "lines",
           "name": "user_1",
           "type": "scatter",
           "x": [],
           "y": []
          },
          {
           "line": {
            "width": 3
           },
           "mode": "lines",
           "name": "user_16",
           "type": "scatter",
           "x": [],
           "y": []
          },
          {
           "line": {
            "width": 3
           },
           "mode": "lines",
           "name": "user_21",
           "type": "scatter",
           "x": [],
           "y": []
          }
         ],
         "name": "2020-05-06"
        },
        {
         "data": [
          {
           "line": {
            "width": 3
           },
           "mode": "lines",
           "name": "user_4",
           "type": "scatter",
           "x": [
            "2020-04-17",
            "2020-04-19",
            "2020-04-23",
            "2020-04-24",
            "2020-05-03",
            "2020-05-04",
            "2020-05-05",
            "2020-05-07"
           ],
           "y": {
            "bdata": "BwsUGyMwNUc=",
            "dtype": "i1"
           }
          },
          {
           "line": {
            "width": 3
           },
           "mode": "lines",
           "name": "user_14",
           "type": "scatter",
           "x": [
            "2020-05-05"
           ],
           "y": {
            "bdata": "AQ==",
            "dtype": "i1"
           }
          },
          {
           "line": {
            "width": 3
           },
           "mode": "lines",
           "name": "user_2",
           "type": "scatter",
           "x": [
            "2020-05-05",
            "2020-05-06"
           ],
           "y": {
            "bdata": "OTo=",
            "dtype": "i1"
           }
          },
          {
           "line": {
            "width": 3
           },
           "mode": "lines",
           "name": "user_25",
           "type": "scatter",
           "x": [],
           "y": []
          },
          {
           "line": {
            "width": 3
           },
           "mode": "lines",
           "name": "user_26",
           "type": "scatter",
           "x": [],
           "y": []
          },
          {
           "line": {
            "width": 3
           },
           "mode": "lines",
           "name": "user_10",
           "type": "scatter",
           "x": [],
           "y": []
          },
          {
           "line": {
            "width": 3
           },
           "mode": "lines",
           "name": "user_3",
           "type": "scatter",
           "x": [
            "2020-05-07"
           ],
           "y": {
            "bdata": "AQ==",
            "dtype": "i1"
           }
          },
          {
           "line": {
            "width": 3
           },
           "mode": "lines",
           "name": "user_20",
           "type": "scatter",
           "x": [],
           "y": []
          },
          {
           "line": {
            "width": 3
           },
           "mode": "lines",
           "name": "user_29",
           "type": "scatter",
           "x": [],
           "y": []
          },
          {
           "line": {
            "width": 3
           },
           "mode": "lines",
           "name": "user_24",
           "type": "scatter",
           "x": [],
           "y": []
          },
          {
           "line": {
            "width": 3
           },
           "mode": "lines",
           "name": "user_13",
           "type": "scatter",
           "x": [],
           "y": []
          },
          {
           "line": {
            "width": 3
           },
           "mode": "lines",
           "name": "user_18",
           "type": "scatter",
           "x": [],
           "y": []
          },
          {
           "line": {
            "width": 3
           },
           "mode": "lines",
           "name": "user_19",
           "type": "scatter",
           "x": [],
           "y": []
          },
          {
           "line": {
            "width": 3
           },
           "mode": "lines",
           "name": "user_28",
           "type": "scatter",
           "x": [],
           "y": []
          },
          {
           "line": {
            "width": 3
           },
           "mode": "lines",
           "name": "user_30",
           "type": "scatter",
           "x": [
            "2020-04-22",
            "2020-04-23",
            "2020-05-03",
            "2020-05-04",
            "2020-05-07"
           ],
           "y": {
            "bdata": "AQIEBQw=",
            "dtype": "i1"
           }
          },
          {
           "line": {
            "width": 3
           },
           "mode": "lines",
           "name": "user_1",
           "type": "scatter",
           "x": [],
           "y": []
          },
          {
           "line": {
            "width": 3
           },
           "mode": "lines",
           "name": "user_16",
           "type": "scatter",
           "x": [],
           "y": []
          },
          {
           "line": {
            "width": 3
           },
           "mode": "lines",
           "name": "user_21",
           "type": "scatter",
           "x": [],
           "y": []
          }
         ],
         "name": "2020-05-07"
        },
        {
         "data": [
          {
           "line": {
            "width": 3
           },
           "mode": "lines",
           "name": "user_4",
           "type": "scatter",
           "x": [
            "2020-04-17",
            "2020-04-19",
            "2020-04-23",
            "2020-04-24",
            "2020-05-03",
            "2020-05-04",
            "2020-05-05",
            "2020-05-07",
            "2020-05-08"
           ],
           "y": {
            "bdata": "BwsUGyMwNUdT",
            "dtype": "i1"
           }
          },
          {
           "line": {
            "width": 3
           },
           "mode": "lines",
           "name": "user_14",
           "type": "scatter",
           "x": [
            "2020-05-05"
           ],
           "y": {
            "bdata": "AQ==",
            "dtype": "i1"
           }
          },
          {
           "line": {
            "width": 3
           },
           "mode": "lines",
           "name": "user_2",
           "type": "scatter",
           "x": [
            "2020-05-05",
            "2020-05-06"
           ],
           "y": {
            "bdata": "OTo=",
            "dtype": "i1"
           }
          },
          {
           "line": {
            "width": 3
           },
           "mode": "lines",
           "name": "user_25",
           "type": "scatter",
           "x": [
            "2020-05-08"
           ],
           "y": {
            "bdata": "BQ==",
            "dtype": "i1"
           }
          },
          {
           "line": {
            "width": 3
           },
           "mode": "lines",
           "name": "user_26",
           "type": "scatter",
           "x": [],
           "y": []
          },
          {
           "line": {
            "width": 3
           },
           "mode": "lines",
           "name": "user_10",
           "type": "scatter",
           "x": [],
           "y": []
          },
          {
           "line": {
            "width": 3
           },
           "mode": "lines",
           "name": "user_3",
           "type": "scatter",
           "x": [
            "2020-05-07",
            "2020-05-08"
           ],
           "y": {
            "bdata": "ARw=",
            "dtype": "i1"
           }
          },
          {
           "line": {
            "width": 3
           },
           "mode": "lines",
           "name": "user_20",
           "type": "scatter",
           "x": [],
           "y": []
          },
          {
           "line": {
            "width": 3
           },
           "mode": "lines",
           "name": "user_29",
           "type": "scatter",
           "x": [],
           "y": []
          },
          {
           "line": {
            "width": 3
           },
           "mode": "lines",
           "name": "user_24",
           "type": "scatter",
           "x": [],
           "y": []
          },
          {
           "line": {
            "width": 3
           },
           "mode": "lines",
           "name": "user_13",
           "type": "scatter",
           "x": [],
           "y": []
          },
          {
           "line": {
            "width": 3
           },
           "mode": "lines",
           "name": "user_18",
           "type": "scatter",
           "x": [],
           "y": []
          },
          {
           "line": {
            "width": 3
           },
           "mode": "lines",
           "name": "user_19",
           "type": "scatter",
           "x": [],
           "y": []
          },
          {
           "line": {
            "width": 3
           },
           "mode": "lines",
           "name": "user_28",
           "type": "scatter",
           "x": [],
           "y": []
          },
          {
           "line": {
            "width": 3
           },
           "mode": "lines",
           "name": "user_30",
           "type": "scatter",
           "x": [
            "2020-04-22",
            "2020-04-23",
            "2020-05-03",
            "2020-05-04",
            "2020-05-07"
           ],
           "y": {
            "bdata": "AQIEBQw=",
            "dtype": "i1"
           }
          },
          {
           "line": {
            "width": 3
           },
           "mode": "lines",
           "name": "user_1",
           "type": "scatter",
           "x": [],
           "y": []
          },
          {
           "line": {
            "width": 3
           },
           "mode": "lines",
           "name": "user_16",
           "type": "scatter",
           "x": [],
           "y": []
          },
          {
           "line": {
            "width": 3
           },
           "mode": "lines",
           "name": "user_21",
           "type": "scatter",
           "x": [],
           "y": []
          }
         ],
         "name": "2020-05-08"
        },
        {
         "data": [
          {
           "line": {
            "width": 3
           },
           "mode": "lines",
           "name": "user_4",
           "type": "scatter",
           "x": [
            "2020-04-17",
            "2020-04-19",
            "2020-04-23",
            "2020-04-24",
            "2020-05-03",
            "2020-05-04",
            "2020-05-05",
            "2020-05-07",
            "2020-05-08"
           ],
           "y": {
            "bdata": "BwsUGyMwNUdT",
            "dtype": "i1"
           }
          },
          {
           "line": {
            "width": 3
           },
           "mode": "lines",
           "name": "user_14",
           "type": "scatter",
           "x": [
            "2020-05-05",
            "2020-05-09"
           ],
           "y": {
            "bdata": "ARI=",
            "dtype": "i1"
           }
          },
          {
           "line": {
            "width": 3
           },
           "mode": "lines",
           "name": "user_2",
           "type": "scatter",
           "x": [
            "2020-05-05",
            "2020-05-06"
           ],
           "y": {
            "bdata": "OTo=",
            "dtype": "i1"
           }
          },
          {
           "line": {
            "width": 3
           },
           "mode": "lines",
           "name": "user_25",
           "type": "scatter",
           "x": [
            "2020-05-08",
            "2020-05-09"
           ],
           "y": {
            "bdata": "BRs=",
            "dtype": "i1"
           }
          },
          {
           "line": {
            "width": 3
           },
           "mode": "lines",
           "name": "user_26",
           "type": "scatter",
           "x": [],
           "y": []
          },
          {
           "line": {
            "width": 3
           },
           "mode": "lines",
           "name": "user_10",
           "type": "scatter",
           "x": [],
           "y": []
          },
          {
           "line": {
            "width": 3
           },
           "mode": "lines",
           "name": "user_3",
           "type": "scatter",
           "x": [
            "2020-05-07",
            "2020-05-08",
            "2020-05-09"
           ],
           "y": {
            "bdata": "ARwd",
            "dtype": "i1"
           }
          },
          {
           "line": {
            "width": 3
           },
           "mode": "lines",
           "name": "user_20",
           "type": "scatter",
           "x": [],
           "y": []
          },
          {
           "line": {
            "width": 3
           },
           "mode": "lines",
           "name": "user_29",
           "type": "scatter",
           "x": [],
           "y": []
          },
          {
           "line": {
            "width": 3
           },
           "mode": "lines",
           "name": "user_24",
           "type": "scatter",
           "x": [],
           "y": []
          },
          {
           "line": {
            "width": 3
           },
           "mode": "lines",
           "name": "user_13",
           "type": "scatter",
           "x": [],
           "y": []
          },
          {
           "line": {
            "width": 3
           },
           "mode": "lines",
           "name": "user_18",
           "type": "scatter",
           "x": [],
           "y": []
          },
          {
           "line": {
            "width": 3
           },
           "mode": "lines",
           "name": "user_19",
           "type": "scatter",
           "x": [],
           "y": []
          },
          {
           "line": {
            "width": 3
           },
           "mode": "lines",
           "name": "user_28",
           "type": "scatter",
           "x": [],
           "y": []
          },
          {
           "line": {
            "width": 3
           },
           "mode": "lines",
           "name": "user_30",
           "type": "scatter",
           "x": [
            "2020-04-22",
            "2020-04-23",
            "2020-05-03",
            "2020-05-04",
            "2020-05-07"
           ],
           "y": {
            "bdata": "AQIEBQw=",
            "dtype": "i1"
           }
          },
          {
           "line": {
            "width": 3
           },
           "mode": "lines",
           "name": "user_1",
           "type": "scatter",
           "x": [],
           "y": []
          },
          {
           "line": {
            "width": 3
           },
           "mode": "lines",
           "name": "user_16",
           "type": "scatter",
           "x": [],
           "y": []
          },
          {
           "line": {
            "width": 3
           },
           "mode": "lines",
           "name": "user_21",
           "type": "scatter",
           "x": [],
           "y": []
          }
         ],
         "name": "2020-05-09"
        },
        {
         "data": [
          {
           "line": {
            "width": 3
           },
           "mode": "lines",
           "name": "user_4",
           "type": "scatter",
           "x": [
            "2020-04-17",
            "2020-04-19",
            "2020-04-23",
            "2020-04-24",
            "2020-05-03",
            "2020-05-04",
            "2020-05-05",
            "2020-05-07",
            "2020-05-08"
           ],
           "y": {
            "bdata": "BwsUGyMwNUdT",
            "dtype": "i1"
           }
          },
          {
           "line": {
            "width": 3
           },
           "mode": "lines",
           "name": "user_14",
           "type": "scatter",
           "x": [
            "2020-05-05",
            "2020-05-09",
            "2020-05-10"
           ],
           "y": {
            "bdata": "ARIZ",
            "dtype": "i1"
           }
          },
          {
           "line": {
            "width": 3
           },
           "mode": "lines",
           "name": "user_2",
           "type": "scatter",
           "x": [
            "2020-05-05",
            "2020-05-06",
            "2020-05-10"
           ],
           "y": {
            "bdata": "OTo+",
            "dtype": "i1"
           }
          },
          {
           "line": {
            "width": 3
           },
           "mode": "lines",
           "name": "user_25",
           "type": "scatter",
           "x": [
            "2020-05-08",
            "2020-05-09",
            "2020-05-10"
           ],
           "y": {
            "bdata": "BRsd",
            "dtype": "i1"
           }
          },
          {
           "line": {
            "width": 3
           },
           "mode": "lines",
           "name": "user_26",
           "type": "scatter",
           "x": [
            "2020-05-10"
           ],
           "y": {
            "bdata": "Iw==",
            "dtype": "i1"
           }
          },
          {
           "line": {
            "width": 3
           },
           "mode": "lines",
           "name": "user_10",
           "type": "scatter",
           "x": [],
           "y": []
          },
          {
           "line": {
            "width": 3
           },
           "mode": "lines",
           "name": "user_3",
           "type": "scatter",
           "x": [
            "2020-05-07",
            "2020-05-08",
            "2020-05-09",
            "2020-05-10"
           ],
           "y": {
            "bdata": "ARwdHw==",
            "dtype": "i1"
           }
          },
          {
           "line": {
            "width": 3
           },
           "mode": "lines",
           "name": "user_20",
           "type": "scatter",
           "x": [],
           "y": []
          },
          {
           "line": {
            "width": 3
           },
           "mode": "lines",
           "name": "user_29",
           "type": "scatter",
           "x": [],
           "y": []
          },
          {
           "line": {
            "width": 3
           },
           "mode": "lines",
           "name": "user_24",
           "type": "scatter",
           "x": [],
           "y": []
          },
          {
           "line": {
            "width": 3
           },
           "mode": "lines",
           "name": "user_13",
           "type": "scatter",
           "x": [],
           "y": []
          },
          {
           "line": {
            "width": 3
           },
           "mode": "lines",
           "name": "user_18",
           "type": "scatter",
           "x": [],
           "y": []
          },
          {
           "line": {
            "width": 3
           },
           "mode": "lines",
           "name": "user_19",
           "type": "scatter",
           "x": [],
           "y": []
          },
          {
           "line": {
            "width": 3
           },
           "mode": "lines",
           "name": "user_28",
           "type": "scatter",
           "x": [],
           "y": []
          },
          {
           "line": {
            "width": 3
           },
           "mode": "lines",
           "name": "user_30",
           "type": "scatter",
           "x": [
            "2020-04-22",
            "2020-04-23",
            "2020-05-03",
            "2020-05-04",
            "2020-05-07",
            "2020-05-10"
           ],
           "y": {
            "bdata": "AQIEBQwR",
            "dtype": "i1"
           }
          },
          {
           "line": {
            "width": 3
           },
           "mode": "lines",
           "name": "user_1",
           "type": "scatter",
           "x": [],
           "y": []
          },
          {
           "line": {
            "width": 3
           },
           "mode": "lines",
           "name": "user_16",
           "type": "scatter",
           "x": [],
           "y": []
          },
          {
           "line": {
            "width": 3
           },
           "mode": "lines",
           "name": "user_21",
           "type": "scatter",
           "x": [
            "2020-05-10"
           ],
           "y": {
            "bdata": "Bw==",
            "dtype": "i1"
           }
          }
         ],
         "name": "2020-05-10"
        },
        {
         "data": [
          {
           "line": {
            "width": 3
           },
           "mode": "lines",
           "name": "user_4",
           "type": "scatter",
           "x": [
            "2020-04-17",
            "2020-04-19",
            "2020-04-23",
            "2020-04-24",
            "2020-05-03",
            "2020-05-04",
            "2020-05-05",
            "2020-05-07",
            "2020-05-08",
            "2020-05-11"
           ],
           "y": {
            "bdata": "BwsUGyMwNUdTVw==",
            "dtype": "i1"
           }
          },
          {
           "line": {
            "width": 3
           },
           "mode": "lines",
           "name": "user_14",
           "type": "scatter",
           "x": [
            "2020-05-05",
            "2020-05-09",
            "2020-05-10",
            "2020-05-11"
           ],
           "y": {
            "bdata": "ARIZMQ==",
            "dtype": "i1"
           }
          },
          {
           "line": {
            "width": 3
           },
           "mode": "lines",
           "name": "user_2",
           "type": "scatter",
           "x": [
            "2020-05-05",
            "2020-05-06",
            "2020-05-10",
            "2020-05-11"
           ],
           "y": {
            "bdata": "OTo+Sg==",
            "dtype": "i1"
           }
          },
          {
           "line": {
            "width": 3
           },
           "mode": "lines",
           "name": "user_25",
           "type": "scatter",
           "x": [
            "2020-05-08",
            "2020-05-09",
            "2020-05-10",
            "2020-05-11"
           ],
           "y": {
            "bdata": "BRsdIQ==",
            "dtype": "i1"
           }
          },
          {
           "line": {
            "width": 3
           },
           "mode": "lines",
           "name": "user_26",
           "type": "scatter",
           "x": [
            "2020-05-10"
           ],
           "y": {
            "bdata": "Iw==",
            "dtype": "i1"
           }
          },
          {
           "line": {
            "width": 3
           },
           "mode": "lines",
           "name": "user_10",
           "type": "scatter",
           "x": [],
           "y": []
          },
          {
           "line": {
            "width": 3
           },
           "mode": "lines",
           "name": "user_3",
           "type": "scatter",
           "x": [
            "2020-05-07",
            "2020-05-08",
            "2020-05-09",
            "2020-05-10",
            "2020-05-11"
           ],
           "y": {
            "bdata": "ARwdHzY=",
            "dtype": "i1"
           }
          },
          {
           "line": {
            "width": 3
           },
           "mode": "lines",
           "name": "user_20",
           "type": "scatter",
           "x": [
            "2020-05-11"
           ],
           "y": {
            "bdata": "Cw==",
            "dtype": "i1"
           }
          },
          {
           "line": {
            "width": 3
           },
           "mode": "lines",
           "name": "user_29",
           "type": "scatter",
           "x": [
            "2020-05-11"
           ],
           "y": {
            "bdata": "BQ==",
            "dtype": "i1"
           }
          },
          {
           "line": {
            "width": 3
           },
           "mode": "lines",
           "name": "user_24",
           "type": "scatter",
           "x": [],
           "y": []
          },
          {
           "line": {
            "width": 3
           },
           "mode": "lines",
           "name": "user_13",
           "type": "scatter",
           "x": [
            "2020-05-11"
           ],
           "y": {
            "bdata": "Ag==",
            "dtype": "i1"
           }
          },
          {
           "line": {
            "width": 3
           },
           "mode": "lines",
           "name": "user_18",
           "type": "scatter",
           "x": [
            "2020-05-11"
           ],
           "y": {
            "bdata": "Bw==",
            "dtype": "i1"
           }
          },
          {
           "line": {
            "width": 3
           },
           "mode": "lines",
           "name": "user_19",
           "type": "scatter",
           "x": [],
           "y": []
          },
          {
           "line": {
            "width": 3
           },
           "mode": "lines",
           "name": "user_28",
           "type": "scatter",
           "x": [],
           "y": []
          },
          {
           "line": {
            "width": 3
           },
           "mode": "lines",
           "name": "user_30",
           "type": "scatter",
           "x": [
            "2020-04-22",
            "2020-04-23",
            "2020-05-03",
            "2020-05-04",
            "2020-05-07",
            "2020-05-10"
           ],
           "y": {
            "bdata": "AQIEBQwR",
            "dtype": "i1"
           }
          },
          {
           "line": {
            "width": 3
           },
           "mode": "lines",
           "name": "user_1",
           "type": "scatter",
           "x": [],
           "y": []
          },
          {
           "line": {
            "width": 3
           },
           "mode": "lines",
           "name": "user_16",
           "type": "scatter",
           "x": [],
           "y": []
          },
          {
           "line": {
            "width": 3
           },
           "mode": "lines",
           "name": "user_21",
           "type": "scatter",
           "x": [
            "2020-05-10"
           ],
           "y": {
            "bdata": "Bw==",
            "dtype": "i1"
           }
          }
         ],
         "name": "2020-05-11"
        },
        {
         "data": [
          {
           "line": {
            "width": 3
           },
           "mode": "lines",
           "name": "user_4",
           "type": "scatter",
           "x": [
            "2020-04-17",
            "2020-04-19",
            "2020-04-23",
            "2020-04-24",
            "2020-05-03",
            "2020-05-04",
            "2020-05-05",
            "2020-05-07",
            "2020-05-08",
            "2020-05-11",
            "2020-05-12"
           ],
           "y": {
            "bdata": "BwsUGyMwNUdTV30=",
            "dtype": "i1"
           }
          },
          {
           "line": {
            "width": 3
           },
           "mode": "lines",
           "name": "user_14",
           "type": "scatter",
           "x": [
            "2020-05-05",
            "2020-05-09",
            "2020-05-10",
            "2020-05-11",
            "2020-05-12"
           ],
           "y": {
            "bdata": "ARIZMVw=",
            "dtype": "i1"
           }
          },
          {
           "line": {
            "width": 3
           },
           "mode": "lines",
           "name": "user_2",
           "type": "scatter",
           "x": [
            "2020-05-05",
            "2020-05-06",
            "2020-05-10",
            "2020-05-11",
            "2020-05-12"
           ],
           "y": {
            "bdata": "OTo+Sk4=",
            "dtype": "i1"
           }
          },
          {
           "line": {
            "width": 3
           },
           "mode": "lines",
           "name": "user_25",
           "type": "scatter",
           "x": [
            "2020-05-08",
            "2020-05-09",
            "2020-05-10",
            "2020-05-11",
            "2020-05-12"
           ],
           "y": {
            "bdata": "BRsdITY=",
            "dtype": "i1"
           }
          },
          {
           "line": {
            "width": 3
           },
           "mode": "lines",
           "name": "user_26",
           "type": "scatter",
           "x": [
            "2020-05-10"
           ],
           "y": {
            "bdata": "Iw==",
            "dtype": "i1"
           }
          },
          {
           "line": {
            "width": 3
           },
           "mode": "lines",
           "name": "user_10",
           "type": "scatter",
           "x": [
            "2020-05-12"
           ],
           "y": {
            "bdata": "Bw==",
            "dtype": "i1"
           }
          },
          {
           "line": {
            "width": 3
           },
           "mode": "lines",
           "name": "user_3",
           "type": "scatter",
           "x": [
            "2020-05-07",
            "2020-05-08",
            "2020-05-09",
            "2020-05-10",
            "2020-05-11",
            "2020-05-12"
           ],
           "y": {
            "bdata": "ARwdHzY4",
            "dtype": "i1"
           }
          },
          {
           "line": {
            "width": 3
           },
           "mode": "lines",
           "name": "user_20",
           "type": "scatter",
           "x": [
            "2020-05-11"
           ],
           "y": {
            "bdata": "Cw==",
            "dtype": "i1"
           }
          },
          {
           "line": {
            "width": 3
           },
           "mode": "lines",
           "name": "user_29",
           "type": "scatter",
           "x": [
            "2020-05-11",
            "2020-05-12"
           ],
           "y": {
            "bdata": "BRI=",
            "dtype": "i1"
           }
          },
          {
           "line": {
            "width": 3
           },
           "mode": "lines",
           "name": "user_24",
           "type": "scatter",
           "x": [],
           "y": []
          },
          {
           "line": {
            "width": 3
           },
           "mode": "lines",
           "name": "user_13",
           "type": "scatter",
           "x": [
            "2020-05-11",
            "2020-05-12"
           ],
           "y": {
            "bdata": "Ah4=",
            "dtype": "i1"
           }
          },
          {
           "line": {
            "width": 3
           },
           "mode": "lines",
           "name": "user_18",
           "type": "scatter",
           "x": [
            "2020-05-11"
           ],
           "y": {
            "bdata": "Bw==",
            "dtype": "i1"
           }
          },
          {
           "line": {
            "width": 3
           },
           "mode": "lines",
           "name": "user_19",
           "type": "scatter",
           "x": [],
           "y": []
          },
          {
           "line": {
            "width": 3
           },
           "mode": "lines",
           "name": "user_28",
           "type": "scatter",
           "x": [
            "2020-05-12"
           ],
           "y": {
            "bdata": "Ag==",
            "dtype": "i1"
           }
          },
          {
           "line": {
            "width": 3
           },
           "mode": "lines",
           "name": "user_30",
           "type": "scatter",
           "x": [
            "2020-04-22",
            "2020-04-23",
            "2020-05-03",
            "2020-05-04",
            "2020-05-07",
            "2020-05-10"
           ],
           "y": {
            "bdata": "AQIEBQwR",
            "dtype": "i1"
           }
          },
          {
           "line": {
            "width": 3
           },
           "mode": "lines",
           "name": "user_1",
           "type": "scatter",
           "x": [],
           "y": []
          },
          {
           "line": {
            "width": 3
           },
           "mode": "lines",
           "name": "user_16",
           "type": "scatter",
           "x": [
            "2020-05-12"
           ],
           "y": {
            "bdata": "Ag==",
            "dtype": "i1"
           }
          },
          {
           "line": {
            "width": 3
           },
           "mode": "lines",
           "name": "user_21",
           "type": "scatter",
           "x": [
            "2020-05-10"
           ],
           "y": {
            "bdata": "Bw==",
            "dtype": "i1"
           }
          }
         ],
         "name": "2020-05-12"
        },
        {
         "data": [
          {
           "line": {
            "width": 3
           },
           "mode": "lines",
           "name": "user_4",
           "type": "scatter",
           "x": [
            "2020-04-17",
            "2020-04-19",
            "2020-04-23",
            "2020-04-24",
            "2020-05-03",
            "2020-05-04",
            "2020-05-05",
            "2020-05-07",
            "2020-05-08",
            "2020-05-11",
            "2020-05-12",
            "2020-05-13"
           ],
           "y": {
            "bdata": "BwALABQAGwAjADAANQBHAFMAVwB9AIkA",
            "dtype": "i2"
           }
          },
          {
           "line": {
            "width": 3
           },
           "mode": "lines",
           "name": "user_14",
           "type": "scatter",
           "x": [
            "2020-05-05",
            "2020-05-09",
            "2020-05-10",
            "2020-05-11",
            "2020-05-12"
           ],
           "y": {
            "bdata": "ARIZMVw=",
            "dtype": "i1"
           }
          },
          {
           "line": {
            "width": 3
           },
           "mode": "lines",
           "name": "user_2",
           "type": "scatter",
           "x": [
            "2020-05-05",
            "2020-05-06",
            "2020-05-10",
            "2020-05-11",
            "2020-05-12",
            "2020-05-13"
           ],
           "y": {
            "bdata": "OTo+Sk5d",
            "dtype": "i1"
           }
          },
          {
           "line": {
            "width": 3
           },
           "mode": "lines",
           "name": "user_25",
           "type": "scatter",
           "x": [
            "2020-05-08",
            "2020-05-09",
            "2020-05-10",
            "2020-05-11",
            "2020-05-12",
            "2020-05-13"
           ],
           "y": {
            "bdata": "BRsdITY5",
            "dtype": "i1"
           }
          },
          {
           "line": {
            "width": 3
           },
           "mode": "lines",
           "name": "user_26",
           "type": "scatter",
           "x": [
            "2020-05-10",
            "2020-05-13"
           ],
           "y": {
            "bdata": "IzQ=",
            "dtype": "i1"
           }
          },
          {
           "line": {
            "width": 3
           },
           "mode": "lines",
           "name": "user_10",
           "type": "scatter",
           "x": [
            "2020-05-12",
            "2020-05-13"
           ],
           "y": {
            "bdata": "BxU=",
            "dtype": "i1"
           }
          },
          {
           "line": {
            "width": 3
           },
           "mode": "lines",
           "name": "user_3",
           "type": "scatter",
           "x": [
            "2020-05-07",
            "2020-05-08",
            "2020-05-09",
            "2020-05-10",
            "2020-05-11",
            "2020-05-12"
           ],
           "y": {
            "bdata": "ARwdHzY4",
            "dtype": "i1"
           }
          },
          {
           "line": {
            "width": 3
           },
           "mode": "lines",
           "name": "user_20",
           "type": "scatter",
           "x": [
            "2020-05-11"
           ],
           "y": {
            "bdata": "Cw==",
            "dtype": "i1"
           }
          },
          {
           "line": {
            "width": 3
           },
           "mode": "lines",
           "name": "user_29",
           "type": "scatter",
           "x": [
            "2020-05-11",
            "2020-05-12",
            "2020-05-13"
           ],
           "y": {
            "bdata": "BRIi",
            "dtype": "i1"
           }
          },
          {
           "line": {
            "width": 3
           },
           "mode": "lines",
           "name": "user_24",
           "type": "scatter",
           "x": [
            "2020-05-13"
           ],
           "y": {
            "bdata": "CQ==",
            "dtype": "i1"
           }
          },
          {
           "line": {
            "width": 3
           },
           "mode": "lines",
           "name": "user_13",
           "type": "scatter",
           "x": [
            "2020-05-11",
            "2020-05-12"
           ],
           "y": {
            "bdata": "Ah4=",
            "dtype": "i1"
           }
          },
          {
           "line": {
            "width": 3
           },
           "mode": "lines",
           "name": "user_18",
           "type": "scatter",
           "x": [
            "2020-05-11",
            "2020-05-13"
           ],
           "y": {
            "bdata": "Bwg=",
            "dtype": "i1"
           }
          },
          {
           "line": {
            "width": 3
           },
           "mode": "lines",
           "name": "user_19",
           "type": "scatter",
           "x": [],
           "y": []
          },
          {
           "line": {
            "width": 3
           },
           "mode": "lines",
           "name": "user_28",
           "type": "scatter",
           "x": [
            "2020-05-12",
            "2020-05-13"
           ],
           "y": {
            "bdata": "AhQ=",
            "dtype": "i1"
           }
          },
          {
           "line": {
            "width": 3
           },
           "mode": "lines",
           "name": "user_30",
           "type": "scatter",
           "x": [
            "2020-04-22",
            "2020-04-23",
            "2020-05-03",
            "2020-05-04",
            "2020-05-07",
            "2020-05-10"
           ],
           "y": {
            "bdata": "AQIEBQwR",
            "dtype": "i1"
           }
          },
          {
           "line": {
            "width": 3
           },
           "mode": "lines",
           "name": "user_1",
           "type": "scatter",
           "x": [],
           "y": []
          },
          {
           "line": {
            "width": 3
           },
           "mode": "lines",
           "name": "user_16",
           "type": "scatter",
           "x": [
            "2020-05-12"
           ],
           "y": {
            "bdata": "Ag==",
            "dtype": "i1"
           }
          },
          {
           "line": {
            "width": 3
           },
           "mode": "lines",
           "name": "user_21",
           "type": "scatter",
           "x": [
            "2020-05-10"
           ],
           "y": {
            "bdata": "Bw==",
            "dtype": "i1"
           }
          }
         ],
         "name": "2020-05-13"
        },
        {
         "data": [
          {
           "line": {
            "width": 3
           },
           "mode": "lines",
           "name": "user_4",
           "type": "scatter",
           "x": [
            "2020-04-17",
            "2020-04-19",
            "2020-04-23",
            "2020-04-24",
            "2020-05-03",
            "2020-05-04",
            "2020-05-05",
            "2020-05-07",
            "2020-05-08",
            "2020-05-11",
            "2020-05-12",
            "2020-05-13",
            "2020-05-14"
           ],
           "y": {
            "bdata": "BwALABQAGwAjADAANQBHAFMAVwB9AIkApAA=",
            "dtype": "i2"
           }
          },
          {
           "line": {
            "width": 3
           },
           "mode": "lines",
           "name": "user_14",
           "type": "scatter",
           "x": [
            "2020-05-05",
            "2020-05-09",
            "2020-05-10",
            "2020-05-11",
            "2020-05-12",
            "2020-05-14"
           ],
           "y": {
            "bdata": "ARIZMVxj",
            "dtype": "i1"
           }
          },
          {
           "line": {
            "width": 3
           },
           "mode": "lines",
           "name": "user_2",
           "type": "scatter",
           "x": [
            "2020-05-05",
            "2020-05-06",
            "2020-05-10",
            "2020-05-11",
            "2020-05-12",
            "2020-05-13",
            "2020-05-14"
           ],
           "y": {
            "bdata": "OTo+Sk5dXw==",
            "dtype": "i1"
           }
          },
          {
           "line": {
            "width": 3
           },
           "mode": "lines",
           "name": "user_25",
           "type": "scatter",
           "x": [
            "2020-05-08",
            "2020-05-09",
            "2020-05-10",
            "2020-05-11",
            "2020-05-12",
            "2020-05-13",
            "2020-05-14"
           ],
           "y": {
            "bdata": "BRsdITY5TQ==",
            "dtype": "i1"
           }
          },
          {
           "line": {
            "width": 3
           },
           "mode": "lines",
           "name": "user_26",
           "type": "scatter",
           "x": [
            "2020-05-10",
            "2020-05-13",
            "2020-05-14"
           ],
           "y": {
            "bdata": "IzRF",
            "dtype": "i1"
           }
          },
          {
           "line": {
            "width": 3
           },
           "mode": "lines",
           "name": "user_10",
           "type": "scatter",
           "x": [
            "2020-05-12",
            "2020-05-13",
            "2020-05-14"
           ],
           "y": {
            "bdata": "BxU6",
            "dtype": "i1"
           }
          },
          {
           "line": {
            "width": 3
           },
           "mode": "lines",
           "name": "user_3",
           "type": "scatter",
           "x": [
            "2020-05-07",
            "2020-05-08",
            "2020-05-09",
            "2020-05-10",
            "2020-05-11",
            "2020-05-12",
            "2020-05-14"
           ],
           "y": {
            "bdata": "ARwdHzY4Og==",
            "dtype": "i1"
           }
          },
          {
           "line": {
            "width": 3
           },
           "mode": "lines",
           "name": "user_20",
           "type": "scatter",
           "x": [
            "2020-05-11",
            "2020-05-14"
           ],
           "y": {
            "bdata": "CzY=",
            "dtype": "i1"
           }
          },
          {
           "line": {
            "width": 3
           },
           "mode": "lines",
           "name": "user_29",
           "type": "scatter",
           "x": [
            "2020-05-11",
            "2020-05-12",
            "2020-05-13",
            "2020-05-14"
           ],
           "y": {
            "bdata": "BRIiIw==",
            "dtype": "i1"
           }
          },
          {
           "line": {
            "width": 3
           },
           "mode": "lines",
           "name": "user_24",
           "type": "scatter",
           "x": [
            "2020-05-13",
            "2020-05-14"
           ],
           "y": {
            "bdata": "CSI=",
            "dtype": "i1"
           }
          },
          {
           "line": {
            "width": 3
           },
           "mode": "lines",
           "name": "user_13",
           "type": "scatter",
           "x": [
            "2020-05-11",
            "2020-05-12",
            "2020-05-14"
           ],
           "y": {
            "bdata": "Ah4g",
            "dtype": "i1"
           }
          },
          {
           "line": {
            "width": 3
           },
           "mode": "lines",
           "name": "user_18",
           "type": "scatter",
           "x": [
            "2020-05-11",
            "2020-05-13",
            "2020-05-14"
           ],
           "y": {
            "bdata": "Bwgf",
            "dtype": "i1"
           }
          },
          {
           "line": {
            "width": 3
           },
           "mode": "lines",
           "name": "user_19",
           "type": "scatter",
           "x": [
            "2020-05-14"
           ],
           "y": {
            "bdata": "GQ==",
            "dtype": "i1"
           }
          },
          {
           "line": {
            "width": 3
           },
           "mode": "lines",
           "name": "user_28",
           "type": "scatter",
           "x": [
            "2020-05-12",
            "2020-05-13",
            "2020-05-14"
           ],
           "y": {
            "bdata": "AhQa",
            "dtype": "i1"
           }
          },
          {
           "line": {
            "width": 3
           },
           "mode": "lines",
           "name": "user_30",
           "type": "scatter",
           "x": [
            "2020-04-22",
            "2020-04-23",
            "2020-05-03",
            "2020-05-04",
            "2020-05-07",
            "2020-05-10",
            "2020-05-14"
           ],
           "y": {
            "bdata": "AQIEBQwREw==",
            "dtype": "i1"
           }
          },
          {
           "line": {
            "width": 3
           },
           "mode": "lines",
           "name": "user_1",
           "type": "scatter",
           "x": [
            "2020-05-14"
           ],
           "y": {
            "bdata": "Cw==",
            "dtype": "i1"
           }
          },
          {
           "line": {
            "width": 3
           },
           "mode": "lines",
           "name": "user_16",
           "type": "scatter",
           "x": [
            "2020-05-12",
            "2020-05-14"
           ],
           "y": {
            "bdata": "Agk=",
            "dtype": "i1"
           }
          },
          {
           "line": {
            "width": 3
           },
           "mode": "lines",
           "name": "user_21",
           "type": "scatter",
           "x": [
            "2020-05-10",
            "2020-05-14"
           ],
           "y": {
            "bdata": "Bwk=",
            "dtype": "i1"
           }
          }
         ],
         "name": "2020-05-14"
        },
        {
         "data": [
          {
           "line": {
            "width": 3
           },
           "mode": "lines",
           "name": "user_4",
           "type": "scatter",
           "x": [
            "2020-04-17",
            "2020-04-19",
            "2020-04-23",
            "2020-04-24",
            "2020-05-03",
            "2020-05-04",
            "2020-05-05",
            "2020-05-07",
            "2020-05-08",
            "2020-05-11",
            "2020-05-12",
            "2020-05-13",
            "2020-05-14"
           ],
           "y": {
            "bdata": "BwALABQAGwAjADAANQBHAFMAVwB9AIkApAA=",
            "dtype": "i2"
           }
          },
          {
           "line": {
            "width": 3
           },
           "mode": "lines",
           "name": "user_14",
           "type": "scatter",
           "x": [
            "2020-05-05",
            "2020-05-09",
            "2020-05-10",
            "2020-05-11",
            "2020-05-12",
            "2020-05-14"
           ],
           "y": {
            "bdata": "ARIZMVxj",
            "dtype": "i1"
           }
          },
          {
           "line": {
            "width": 3
           },
           "mode": "lines",
           "name": "user_2",
           "type": "scatter",
           "x": [
            "2020-05-05",
            "2020-05-06",
            "2020-05-10",
            "2020-05-11",
            "2020-05-12",
            "2020-05-13",
            "2020-05-14"
           ],
           "y": {
            "bdata": "OTo+Sk5dXw==",
            "dtype": "i1"
           }
          },
          {
           "line": {
            "width": 3
           },
           "mode": "lines",
           "name": "user_25",
           "type": "scatter",
           "x": [
            "2020-05-08",
            "2020-05-09",
            "2020-05-10",
            "2020-05-11",
            "2020-05-12",
            "2020-05-13",
            "2020-05-14"
           ],
           "y": {
            "bdata": "BRsdITY5TQ==",
            "dtype": "i1"
           }
          },
          {
           "line": {
            "width": 3
           },
           "mode": "lines",
           "name": "user_26",
           "type": "scatter",
           "x": [
            "2020-05-10",
            "2020-05-13",
            "2020-05-14"
           ],
           "y": {
            "bdata": "IzRF",
            "dtype": "i1"
           }
          },
          {
           "line": {
            "width": 3
           },
           "mode": "lines",
           "name": "user_10",
           "type": "scatter",
           "x": [
            "2020-05-12",
            "2020-05-13",
            "2020-05-14"
           ],
           "y": {
            "bdata": "BxU6",
            "dtype": "i1"
           }
          },
          {
           "line": {
            "width": 3
           },
           "mode": "lines",
           "name": "user_3",
           "type": "scatter",
           "x": [
            "2020-05-07",
            "2020-05-08",
            "2020-05-09",
            "2020-05-10",
            "2020-05-11",
            "2020-05-12",
            "2020-05-14"
           ],
           "y": {
            "bdata": "ARwdHzY4Og==",
            "dtype": "i1"
           }
          },
          {
           "line": {
            "width": 3
           },
           "mode": "lines",
           "name": "user_20",
           "type": "scatter",
           "x": [
            "2020-05-11",
            "2020-05-14"
           ],
           "y": {
            "bdata": "CzY=",
            "dtype": "i1"
           }
          },
          {
           "line": {
            "width": 3
           },
           "mode": "lines",
           "name": "user_29",
           "type": "scatter",
           "x": [
            "2020-05-11",
            "2020-05-12",
            "2020-05-13",
            "2020-05-14"
           ],
           "y": {
            "bdata": "BRIiIw==",
            "dtype": "i1"
           }
          },
          {
           "line": {
            "width": 3
           },
           "mode": "lines",
           "name": "user_24",
           "type": "scatter",
           "x": [
            "2020-05-13",
            "2020-05-14"
           ],
           "y": {
            "bdata": "CSI=",
            "dtype": "i1"
           }
          },
          {
           "line": {
            "width": 3
           },
           "mode": "lines",
           "name": "user_13",
           "type": "scatter",
           "x": [
            "2020-05-11",
            "2020-05-12",
            "2020-05-14"
           ],
           "y": {
            "bdata": "Ah4g",
            "dtype": "i1"
           }
          },
          {
           "line": {
            "width": 3
           },
           "mode": "lines",
           "name": "user_18",
           "type": "scatter",
           "x": [
            "2020-05-11",
            "2020-05-13",
            "2020-05-14"
           ],
           "y": {
            "bdata": "Bwgf",
            "dtype": "i1"
           }
          },
          {
           "line": {
            "width": 3
           },
           "mode": "lines",
           "name": "user_19",
           "type": "scatter",
           "x": [
            "2020-05-14",
            "2020-05-15"
           ],
           "y": {
            "bdata": "GR0=",
            "dtype": "i1"
           }
          },
          {
           "line": {
            "width": 3
           },
           "mode": "lines",
           "name": "user_28",
           "type": "scatter",
           "x": [
            "2020-05-12",
            "2020-05-13",
            "2020-05-14",
            "2020-05-15"
           ],
           "y": {
            "bdata": "AhQaGw==",
            "dtype": "i1"
           }
          },
          {
           "line": {
            "width": 3
           },
           "mode": "lines",
           "name": "user_30",
           "type": "scatter",
           "x": [
            "2020-04-22",
            "2020-04-23",
            "2020-05-03",
            "2020-05-04",
            "2020-05-07",
            "2020-05-10",
            "2020-05-14"
           ],
           "y": {
            "bdata": "AQIEBQwREw==",
            "dtype": "i1"
           }
          },
          {
           "line": {
            "width": 3
           },
           "mode": "lines",
           "name": "user_1",
           "type": "scatter",
           "x": [
            "2020-05-14"
           ],
           "y": {
            "bdata": "Cw==",
            "dtype": "i1"
           }
          },
          {
           "line": {
            "width": 3
           },
           "mode": "lines",
           "name": "user_16",
           "type": "scatter",
           "x": [
            "2020-05-12",
            "2020-05-14"
           ],
           "y": {
            "bdata": "Agk=",
            "dtype": "i1"
           }
          },
          {
           "line": {
            "width": 3
           },
           "mode": "lines",
           "name": "user_21",
           "type": "scatter",
           "x": [
            "2020-05-10",
            "2020-05-14"
           ],
           "y": {
            "bdata": "Bwk=",
            "dtype": "i1"
           }
          }
         ],
         "name": "2020-05-15"
        }
       ],
       "layout": {
        "height": 600,
        "paper_bgcolor": "gray",
        "plot_bgcolor": "gray",
        "showlegend": true,
        "sliders": [
         {
          "currentvalue": {
           "prefix": "Date: ",
           "visible": true,
           "xanchor": "right"
          },
          "steps": [
           {
            "args": [
             [
              "2020-04-17"
             ],
             {
              "frame": {
               "duration": 0,
               "redraw": true
              }
             }
            ],
            "label": "1",
            "method": "animate"
           },
           {
            "args": [
             [
              "2020-04-19"
             ],
             {
              "frame": {
               "duration": 0,
               "redraw": true
              }
             }
            ],
            "label": "2",
            "method": "animate"
           },
           {
            "args": [
             [
              "2020-04-22"
             ],
             {
              "frame": {
               "duration": 0,
               "redraw": true
              }
             }
            ],
            "label": "3",
            "method": "animate"
           },
           {
            "args": [
             [
              "2020-04-23"
             ],
             {
              "frame": {
               "duration": 0,
               "redraw": true
              }
             }
            ],
            "label": "4",
            "method": "animate"
           },
           {
            "args": [
             [
              "2020-04-24"
             ],
             {
              "frame": {
               "duration": 0,
               "redraw": true
              }
             }
            ],
            "label": "5",
            "method": "animate"
           },
           {
            "args": [
             [
              "2020-05-03"
             ],
             {
              "frame": {
               "duration": 0,
               "redraw": true
              }
             }
            ],
            "label": "6",
            "method": "animate"
           },
           {
            "args": [
             [
              "2020-05-04"
             ],
             {
              "frame": {
               "duration": 0,
               "redraw": true
              }
             }
            ],
            "label": "7",
            "method": "animate"
           },
           {
            "args": [
             [
              "2020-05-05"
             ],
             {
              "frame": {
               "duration": 0,
               "redraw": true
              }
             }
            ],
            "label": "8",
            "method": "animate"
           },
           {
            "args": [
             [
              "2020-05-06"
             ],
             {
              "frame": {
               "duration": 0,
               "redraw": true
              }
             }
            ],
            "label": "9",
            "method": "animate"
           },
           {
            "args": [
             [
              "2020-05-07"
             ],
             {
              "frame": {
               "duration": 0,
               "redraw": true
              }
             }
            ],
            "label": "10",
            "method": "animate"
           },
           {
            "args": [
             [
              "2020-05-08"
             ],
             {
              "frame": {
               "duration": 0,
               "redraw": true
              }
             }
            ],
            "label": "11",
            "method": "animate"
           },
           {
            "args": [
             [
              "2020-05-09"
             ],
             {
              "frame": {
               "duration": 0,
               "redraw": true
              }
             }
            ],
            "label": "12",
            "method": "animate"
           },
           {
            "args": [
             [
              "2020-05-10"
             ],
             {
              "frame": {
               "duration": 0,
               "redraw": true
              }
             }
            ],
            "label": "13",
            "method": "animate"
           },
           {
            "args": [
             [
              "2020-05-11"
             ],
             {
              "frame": {
               "duration": 0,
               "redraw": true
              }
             }
            ],
            "label": "14",
            "method": "animate"
           },
           {
            "args": [
             [
              "2020-05-12"
             ],
             {
              "frame": {
               "duration": 0,
               "redraw": true
              }
             }
            ],
            "label": "15",
            "method": "animate"
           },
           {
            "args": [
             [
              "2020-05-13"
             ],
             {
              "frame": {
               "duration": 0,
               "redraw": true
              }
             }
            ],
            "label": "16",
            "method": "animate"
           },
           {
            "args": [
             [
              "2020-05-14"
             ],
             {
              "frame": {
               "duration": 0,
               "redraw": true
              }
             }
            ],
            "label": "17",
            "method": "animate"
           },
           {
            "args": [
             [
              "2020-05-15"
             ],
             {
              "frame": {
               "duration": 0,
               "redraw": true
              }
             }
            ],
            "label": "18",
            "method": "animate"
           }
          ],
          "transition": {
           "duration": 0
          },
          "x": 0.1,
          "y": 0
         }
        ],
        "template": {
         "data": {
          "bar": [
           {
            "error_x": {
             "color": "#2a3f5f"
            },
            "error_y": {
             "color": "#2a3f5f"
            },
            "marker": {
             "line": {
              "color": "#E5ECF6",
              "width": 0.5
             },
             "pattern": {
              "fillmode": "overlay",
              "size": 10,
              "solidity": 0.2
             }
            },
            "type": "bar"
           }
          ],
          "barpolar": [
           {
            "marker": {
             "line": {
              "color": "#E5ECF6",
              "width": 0.5
             },
             "pattern": {
              "fillmode": "overlay",
              "size": 10,
              "solidity": 0.2
             }
            },
            "type": "barpolar"
           }
          ],
          "carpet": [
           {
            "aaxis": {
             "endlinecolor": "#2a3f5f",
             "gridcolor": "white",
             "linecolor": "white",
             "minorgridcolor": "white",
             "startlinecolor": "#2a3f5f"
            },
            "baxis": {
             "endlinecolor": "#2a3f5f",
             "gridcolor": "white",
             "linecolor": "white",
             "minorgridcolor": "white",
             "startlinecolor": "#2a3f5f"
            },
            "type": "carpet"
           }
          ],
          "choropleth": [
           {
            "colorbar": {
             "outlinewidth": 0,
             "ticks": ""
            },
            "type": "choropleth"
           }
          ],
          "contour": [
           {
            "colorbar": {
             "outlinewidth": 0,
             "ticks": ""
            },
            "colorscale": [
             [
              0,
              "#0d0887"
             ],
             [
              0.1111111111111111,
              "#46039f"
             ],
             [
              0.2222222222222222,
              "#7201a8"
             ],
             [
              0.3333333333333333,
              "#9c179e"
             ],
             [
              0.4444444444444444,
              "#bd3786"
             ],
             [
              0.5555555555555556,
              "#d8576b"
             ],
             [
              0.6666666666666666,
              "#ed7953"
             ],
             [
              0.7777777777777778,
              "#fb9f3a"
             ],
             [
              0.8888888888888888,
              "#fdca26"
             ],
             [
              1,
              "#f0f921"
             ]
            ],
            "type": "contour"
           }
          ],
          "contourcarpet": [
           {
            "colorbar": {
             "outlinewidth": 0,
             "ticks": ""
            },
            "type": "contourcarpet"
           }
          ],
          "heatmap": [
           {
            "colorbar": {
             "outlinewidth": 0,
             "ticks": ""
            },
            "colorscale": [
             [
              0,
              "#0d0887"
             ],
             [
              0.1111111111111111,
              "#46039f"
             ],
             [
              0.2222222222222222,
              "#7201a8"
             ],
             [
              0.3333333333333333,
              "#9c179e"
             ],
             [
              0.4444444444444444,
              "#bd3786"
             ],
             [
              0.5555555555555556,
              "#d8576b"
             ],
             [
              0.6666666666666666,
              "#ed7953"
             ],
             [
              0.7777777777777778,
              "#fb9f3a"
             ],
             [
              0.8888888888888888,
              "#fdca26"
             ],
             [
              1,
              "#f0f921"
             ]
            ],
            "type": "heatmap"
           }
          ],
          "histogram": [
           {
            "marker": {
             "pattern": {
              "fillmode": "overlay",
              "size": 10,
              "solidity": 0.2
             }
            },
            "type": "histogram"
           }
          ],
          "histogram2d": [
           {
            "colorbar": {
             "outlinewidth": 0,
             "ticks": ""
            },
            "colorscale": [
             [
              0,
              "#0d0887"
             ],
             [
              0.1111111111111111,
              "#46039f"
             ],
             [
              0.2222222222222222,
              "#7201a8"
             ],
             [
              0.3333333333333333,
              "#9c179e"
             ],
             [
              0.4444444444444444,
              "#bd3786"
             ],
             [
              0.5555555555555556,
              "#d8576b"
             ],
             [
              0.6666666666666666,
              "#ed7953"
             ],
             [
              0.7777777777777778,
              "#fb9f3a"
             ],
             [
              0.8888888888888888,
              "#fdca26"
             ],
             [
              1,
              "#f0f921"
             ]
            ],
            "type": "histogram2d"
           }
          ],
          "histogram2dcontour": [
           {
            "colorbar": {
             "outlinewidth": 0,
             "ticks": ""
            },
            "colorscale": [
             [
              0,
              "#0d0887"
             ],
             [
              0.1111111111111111,
              "#46039f"
             ],
             [
              0.2222222222222222,
              "#7201a8"
             ],
             [
              0.3333333333333333,
              "#9c179e"
             ],
             [
              0.4444444444444444,
              "#bd3786"
             ],
             [
              0.5555555555555556,
              "#d8576b"
             ],
             [
              0.6666666666666666,
              "#ed7953"
             ],
             [
              0.7777777777777778,
              "#fb9f3a"
             ],
             [
              0.8888888888888888,
              "#fdca26"
             ],
             [
              1,
              "#f0f921"
             ]
            ],
            "type": "histogram2dcontour"
           }
          ],
          "mesh3d": [
           {
            "colorbar": {
             "outlinewidth": 0,
             "ticks": ""
            },
            "type": "mesh3d"
           }
          ],
          "parcoords": [
           {
            "line": {
             "colorbar": {
              "outlinewidth": 0,
              "ticks": ""
             }
            },
            "type": "parcoords"
           }
          ],
          "pie": [
           {
            "automargin": true,
            "type": "pie"
           }
          ],
          "scatter": [
           {
            "fillpattern": {
             "fillmode": "overlay",
             "size": 10,
             "solidity": 0.2
            },
            "type": "scatter"
           }
          ],
          "scatter3d": [
           {
            "line": {
             "colorbar": {
              "outlinewidth": 0,
              "ticks": ""
             }
            },
            "marker": {
             "colorbar": {
              "outlinewidth": 0,
              "ticks": ""
             }
            },
            "type": "scatter3d"
           }
          ],
          "scattercarpet": [
           {
            "marker": {
             "colorbar": {
              "outlinewidth": 0,
              "ticks": ""
             }
            },
            "type": "scattercarpet"
           }
          ],
          "scattergeo": [
           {
            "marker": {
             "colorbar": {
              "outlinewidth": 0,
              "ticks": ""
             }
            },
            "type": "scattergeo"
           }
          ],
          "scattergl": [
           {
            "marker": {
             "colorbar": {
              "outlinewidth": 0,
              "ticks": ""
             }
            },
            "type": "scattergl"
           }
          ],
          "scattermap": [
           {
            "marker": {
             "colorbar": {
              "outlinewidth": 0,
              "ticks": ""
             }
            },
            "type": "scattermap"
           }
          ],
          "scattermapbox": [
           {
            "marker": {
             "colorbar": {
              "outlinewidth": 0,
              "ticks": ""
             }
            },
            "type": "scattermapbox"
           }
          ],
          "scatterpolar": [
           {
            "marker": {
             "colorbar": {
              "outlinewidth": 0,
              "ticks": ""
             }
            },
            "type": "scatterpolar"
           }
          ],
          "scatterpolargl": [
           {
            "marker": {
             "colorbar": {
              "outlinewidth": 0,
              "ticks": ""
             }
            },
            "type": "scatterpolargl"
           }
          ],
          "scatterternary": [
           {
            "marker": {
             "colorbar": {
              "outlinewidth": 0,
              "ticks": ""
             }
            },
            "type": "scatterternary"
           }
          ],
          "surface": [
           {
            "colorbar": {
             "outlinewidth": 0,
             "ticks": ""
            },
            "colorscale": [
             [
              0,
              "#0d0887"
             ],
             [
              0.1111111111111111,
              "#46039f"
             ],
             [
              0.2222222222222222,
              "#7201a8"
             ],
             [
              0.3333333333333333,
              "#9c179e"
             ],
             [
              0.4444444444444444,
              "#bd3786"
             ],
             [
              0.5555555555555556,
              "#d8576b"
             ],
             [
              0.6666666666666666,
              "#ed7953"
             ],
             [
              0.7777777777777778,
              "#fb9f3a"
             ],
             [
              0.8888888888888888,
              "#fdca26"
             ],
             [
              1,
              "#f0f921"
             ]
            ],
            "type": "surface"
           }
          ],
          "table": [
           {
            "cells": {
             "fill": {
              "color": "#EBF0F8"
             },
             "line": {
              "color": "white"
             }
            },
            "header": {
             "fill": {
              "color": "#C8D4E3"
             },
             "line": {
              "color": "white"
             }
            },
            "type": "table"
           }
          ]
         },
         "layout": {
          "annotationdefaults": {
           "arrowcolor": "#2a3f5f",
           "arrowhead": 0,
           "arrowwidth": 1
          },
          "autotypenumbers": "strict",
          "coloraxis": {
           "colorbar": {
            "outlinewidth": 0,
            "ticks": ""
           }
          },
          "colorscale": {
           "diverging": [
            [
             0,
             "#8e0152"
            ],
            [
             0.1,
             "#c51b7d"
            ],
            [
             0.2,
             "#de77ae"
            ],
            [
             0.3,
             "#f1b6da"
            ],
            [
             0.4,
             "#fde0ef"
            ],
            [
             0.5,
             "#f7f7f7"
            ],
            [
             0.6,
             "#e6f5d0"
            ],
            [
             0.7,
             "#b8e186"
            ],
            [
             0.8,
             "#7fbc41"
            ],
            [
             0.9,
             "#4d9221"
            ],
            [
             1,
             "#276419"
            ]
           ],
           "sequential": [
            [
             0,
             "#0d0887"
            ],
            [
             0.1111111111111111,
             "#46039f"
            ],
            [
             0.2222222222222222,
             "#7201a8"
            ],
            [
             0.3333333333333333,
             "#9c179e"
            ],
            [
             0.4444444444444444,
             "#bd3786"
            ],
            [
             0.5555555555555556,
             "#d8576b"
            ],
            [
             0.6666666666666666,
             "#ed7953"
            ],
            [
             0.7777777777777778,
             "#fb9f3a"
            ],
            [
             0.8888888888888888,
             "#fdca26"
            ],
            [
             1,
             "#f0f921"
            ]
           ],
           "sequentialminus": [
            [
             0,
             "#0d0887"
            ],
            [
             0.1111111111111111,
             "#46039f"
            ],
            [
             0.2222222222222222,
             "#7201a8"
            ],
            [
             0.3333333333333333,
             "#9c179e"
            ],
            [
             0.4444444444444444,
             "#bd3786"
            ],
            [
             0.5555555555555556,
             "#d8576b"
            ],
            [
             0.6666666666666666,
             "#ed7953"
            ],
            [
             0.7777777777777778,
             "#fb9f3a"
            ],
            [
             0.8888888888888888,
             "#fdca26"
            ],
            [
             1,
             "#f0f921"
            ]
           ]
          },
          "colorway": [
           "#636efa",
           "#EF553B",
           "#00cc96",
           "#ab63fa",
           "#FFA15A",
           "#19d3f3",
           "#FF6692",
           "#B6E880",
           "#FF97FF",
           "#FECB52"
          ],
          "font": {
           "color": "#2a3f5f"
          },
          "geo": {
           "bgcolor": "white",
           "lakecolor": "white",
           "landcolor": "#E5ECF6",
           "showlakes": true,
           "showland": true,
           "subunitcolor": "white"
          },
          "hoverlabel": {
           "align": "left"
          },
          "hovermode": "closest",
          "mapbox": {
           "style": "light"
          },
          "paper_bgcolor": "white",
          "plot_bgcolor": "#E5ECF6",
          "polar": {
           "angularaxis": {
            "gridcolor": "white",
            "linecolor": "white",
            "ticks": ""
           },
           "bgcolor": "#E5ECF6",
           "radialaxis": {
            "gridcolor": "white",
            "linecolor": "white",
            "ticks": ""
           }
          },
          "scene": {
           "xaxis": {
            "backgroundcolor": "#E5ECF6",
            "gridcolor": "white",
            "gridwidth": 2,
            "linecolor": "white",
            "showbackground": true,
            "ticks": "",
            "zerolinecolor": "white"
           },
           "yaxis": {
            "backgroundcolor": "#E5ECF6",
            "gridcolor": "white",
            "gridwidth": 2,
            "linecolor": "white",
            "showbackground": true,
            "ticks": "",
            "zerolinecolor": "white"
           },
           "zaxis": {
            "backgroundcolor": "#E5ECF6",
            "gridcolor": "white",
            "gridwidth": 2,
            "linecolor": "white",
            "showbackground": true,
            "ticks": "",
            "zerolinecolor": "white"
           }
          },
          "shapedefaults": {
           "line": {
            "color": "#2a3f5f"
           }
          },
          "ternary": {
           "aaxis": {
            "gridcolor": "white",
            "linecolor": "white",
            "ticks": ""
           },
           "baxis": {
            "gridcolor": "white",
            "linecolor": "white",
            "ticks": ""
           },
           "bgcolor": "#E5ECF6",
           "caxis": {
            "gridcolor": "white",
            "linecolor": "white",
            "ticks": ""
           }
          },
          "title": {
           "x": 0.05
          },
          "xaxis": {
           "automargin": true,
           "gridcolor": "white",
           "linecolor": "white",
           "ticks": "",
           "title": {
            "standoff": 15
           },
           "zerolinecolor": "white",
           "zerolinewidth": 2
          },
          "yaxis": {
           "automargin": true,
           "gridcolor": "white",
           "linecolor": "white",
           "ticks": "",
           "title": {
            "standoff": 15
           },
           "zerolinecolor": "white",
           "zerolinewidth": 2
          }
         }
        },
        "updatemenus": [
         {
          "buttons": [
           {
            "args": [
             null,
             {
              "frame": {
               "duration": 200,
               "redraw": true
              }
             }
            ],
            "label": "Play",
            "method": "animate"
           }
          ],
          "type": "buttons",
          "x": 0,
          "y": 1.2,
          "yanchor": "top"
         }
        ],
        "width": 900,
        "xaxis": {
         "title": {
          "font": {
           "size": 15
          }
         }
        },
        "yaxis": {
         "title": {
          "font": {
           "size": 15
          },
          "text": "Cumulative Commits"
         }
        }
       }
      },
      "image/png": "[encoded data removed]"
     },
     "metadata": {},
     "output_type": "display_data"
    }
   ],
   "source": [
    "# Animation frames\n",
    "dates = sorted(cumulative_top['date'].unique())\n",
    "frames = []\n",
    "\n",
    "for i, date in enumerate(dates):\n",
    "    frame_data = cumulative_top[cumulative_top['date'] <= date]\n",
    "    \n",
    "    traces = []\n",
    "    for user in top_users:\n",
    "        user_data = frame_data[frame_data['uid'] == user]\n",
    "        traces.append(\n",
    "            go.Scatter(\n",
    "                x=user_data['date'],\n",
    "                y=user_data['cumulative_commits'],\n",
    "                mode='lines',\n",
    "                name=user,\n",
    "                line=dict(width=3)\n",
    "        )\n",
    "        )   \n",
    "    frames.append(go.Frame(data=traces, name=str(date)))\n",
    "\n",
    "# Initial figure\n",
    "fig = go.Figure(\n",
    "    data=frames[0].data,\n",
    "    frames=frames\n",
    ")\n",
    "# Play buttons\n",
    "fig.update_layout(\n",
    "    updatemenus=[{\n",
    "        \"type\": \"buttons\",\n",
    "        \"buttons\": [\n",
    "            {\n",
    "                \"label\": \"Play\",\n",
    "                \"method\": \"animate\",\n",
    "                \"args\": [None, {\"frame\": {\"duration\": 200, \"redraw\": True}}]\n",
    "            }\n",
    "        ],\n",
    "        \"x\": 0.0,\n",
    "        \"y\": 1.2,\n",
    "        \"yanchor\": \"top\"\n",
    "    }]\n",
    ")\n",
    "\n",
    "# Layout\n",
    "fig.update_layout(\n",
    "    yaxis_title='Cumulative Commits',\n",
    "    xaxis_title_font=dict(size=15),\n",
    "    yaxis_title_font=dict(size=15),\n",
    "    plot_bgcolor='gray',\n",
    "    paper_bgcolor='gray',\n",
    "    height=600,\n",
    "    width=900,\n",
    "    showlegend=True\n",
    ")\n",
    "# Animation\n",
    "fig.update_layout(\n",
    "    sliders=[{\n",
    "        \"steps\": [{\n",
    "            \"args\": [[f.name], {\"frame\": {\"duration\": 0, \"redraw\": True}}],\n",
    "            \"label\": str(i+1),\n",
    "            \"method\": \"animate\"\n",
    "        } for i, f in enumerate(frames)],\n",
    "        \"transition\": {\"duration\": 0},\n",
    "        \"x\": 0.1,\n",
    "        \"y\": 0,\n",
    "        \"currentvalue\": {\n",
    "            \"prefix\": \"Date: \",\n",
    "            \"visible\": True,\n",
    "            \"xanchor\": \"right\"\n",
    "        }\n",
    "    }]\n",
    ")\n",
    "\n",
    "fig.show()"
   ]
  },
  {
   "cell_type": "code",
   "execution_count": 16,
   "metadata": {},
   "outputs": [],
   "source": [
    "conn.close()"
   ]
  }
 ],
 "metadata": {
  "kernelspec": {
   "display_name": "Python 3 (ipykernel)",
   "language": "python",
   "name": "python3"
  },
  "language_info": {
   "codemirror_mode": {
    "name": "ipython",
    "version": 3
   },
   "file_extension": ".py",
   "mimetype": "text/x-python",
   "name": "python",
   "nbconvert_exporter": "python",
   "pygments_lexer": "ipython3",
   "version": "3.13.2"
  }
 },
 "nbformat": 4,
 "nbformat_minor": 4
}
