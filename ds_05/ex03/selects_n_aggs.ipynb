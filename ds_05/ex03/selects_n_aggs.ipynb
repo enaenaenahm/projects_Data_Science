{
 "cells": [
  {
   "cell_type": "code",
   "execution_count": null,
   "metadata": {},
   "outputs": [],
   "source": [
    "import pandas as pd\n",
    "\n",
    "df = pd.read_json(\"../data/auto.json\")\n",
    "df.set_index(\"CarNumber\", inplace=True)\n",
    "df.head()\n",
    "## Simple Selects\n",
    "df[df[\"Fines\"]> 2100]\n",
    "df[(df[\"Fines\"]> 2100) & (df[\"Refund\"] == 2)]\n",
    "df[df[\"Model\"].isin([\"Focus\", \"Corolla\"])]\n",
    "numbers = ['Y7689C197RUS', '92928M178RUS', '7788KT197RUS', 'H115YO163RUS', 'X758HY197RUS']\n",
    "df.loc[df.index.isin(numbers)]\n",
    "## brand and model\n",
    "df.groupby(\"Make\")[\"Fines\"].median()\n",
    "df.groupby([\"Make\", \"Model\"])[\"Fines\"].median()\n",
    "df.groupby(\"Make\")[\"Fines\"].count()\n",
    "df.groupby([\"Make\", \"Model\"])[\"Fines\"].agg([\"min\", \"max\"])\n",
    "df.groupby([\"Make\", \"Model\"])[\"Fines\"].std()\n",
    "## car number\n",
    "fine_counts = df.groupby(df.index)[\"Fines\"].count().sort_values(ascending=False)\n",
    "top_car = fine_counts.index[0]\n",
    "df.loc[top_car]\n",
    "fine_sums = df.groupby(df.index)[\"Fines\"].sum().sort_values(ascending=False)\n",
    "fine_sums\n",
    "top_car_sum = fine_sums.index[0]\n",
    "df.loc[top_car_sum]\n",
    "## different models\n",
    "multiple_models = df.groupby(df.index)[\"Model\"].nunique()\n",
    "multiple_models[multiple_models > 2]"
   ]
  }
 ],
 "metadata": {
  "language_info": {
   "name": "python"
  }
 },
 "nbformat": 4,
 "nbformat_minor": 2
}
