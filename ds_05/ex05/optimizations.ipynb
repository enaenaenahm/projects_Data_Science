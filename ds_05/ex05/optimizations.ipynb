{
 "cells": [
  {
   "cell_type": "code",
   "execution_count": null,
   "metadata": {},
   "outputs": [],
   "source": [
    "import pandas as pd\n",
    "import gc\n",
    "\n",
    "df = pd.read_csv(\"../data/fines.csv\")\n",
    "## loop: for + iloc\n",
    "def calc_loop(df):\n",
    "    result = []\n",
    "    for i in range(len(df)):\n",
    "        row = df.iloc[i]\n",
    "        result.append(row['Fines'] / row['Refund'] * row['Year'])\n",
    "    return result\n",
    "\n",
    "## loop: iterrows()\n",
    "def calc_iterrows(df):\n",
    "    result = []\n",
    "    for idx, row in df.iterrows():\n",
    "        result.append(row['Fines'] / row['Refund'] * row['Year'])\n",
    "    return result\n",
    "## indexing after set_index\n",
    "df_indexed = df.set_index('CarNumber')\n",
    "## downcasting\n",
    "print(\"Before downcasting:\")\n",
    "df.info(memory_usage='deep')\n",
    "df_optimized = df.copy()\n",
    "float_cols = df_optimized.select_dtypes(include=['float64']).columns\n",
    "int_cols = df_optimized.select_dtypes(include=['int64']).columns\n",
    "df_optimized[float_cols] = df_optimized[float_cols].apply(pd.to_numeric, downcast='float')\n",
    "df_optimized[int_cols] = df_optimized[int_cols].apply(pd.to_numeric, downcast='integer')\n",
    "print(\"After numeric downcasting:\")\n",
    "df_optimized.info(memory_usage='deep')\n",
    "## categories\n",
    "for col in df_optimized.select_dtypes(include='object').columns:\n",
    "    df_optimized[col] = df_optimized[col].astype('category')\n",
    "print(\"After category conversion:\")\n",
    "df_optimized.info(memory_usage='deep')\n",
    "## memory cleanup\n",
    "gc.collect()"
   ]
  }
 ],
 "metadata": {
  "language_info": {
   "name": "python"
  }
 },
 "nbformat": 4,
 "nbformat_minor": 2
}
