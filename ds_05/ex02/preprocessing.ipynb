{
 "cells": [
  {
   "cell_type": "code",
   "execution_count": null,
   "metadata": {},
   "outputs": [],
   "source": [
    "import pandas as pd\n",
    "\n",
    "df = pd.read_csv('../data/auto.csv', index_col='ID')\n",
    "df.shape \n",
    "## Number of observations\n",
    "df.count()\n",
    "## Remove duplicates by CarNumber, Make_n_model, Fines\n",
    "df = df.drop_duplicates(subset=['CarNumber', 'Make_n_model', 'Fines'], keep='last')\n",
    "df.count()\n",
    "## Checking and handling missing values\n",
    "df.isna().sum()\n",
    "## Removing columns with more than 500 missing values\n",
    "df = df.dropna(thresh=len(df) - 500, axis=1)\n",
    "df.isna().sum()\n",
    "## Filling gaps in Refund with previous value\n",
    "df['Refund'] = df['Refund'].ffill()\n",
    "df.isna().sum()\n",
    "## Filling in the blanks in Fines with the average value\n",
    "df['Fines'] = df['Fines'].fillna(df['Fines'].mean())\n",
    "df.isna().sum()\n",
    "## Separating Make and Model from Make_n_model\n",
    "df[['Make', 'Model']] = df['Make_n_model'].apply(lambda x: pd.Series(str(x).split(' ', 1)))\n",
    "## Removing the Make_n_model column\n",
    "df = df.drop(columns=['Make_n_model'])\n",
    "## Saving the result to JSON\n",
    "df.to_json('../data/auto.json', orient='records', lines=False, indent=4)\n"
   ]
  },
  {
   "cell_type": "code",
   "execution_count": null,
   "metadata": {},
   "outputs": [],
   "source": []
  }
 ],
 "metadata": {
  "kernelspec": {
   "display_name": "Python 3 (ipykernel)",
   "language": "python",
   "name": "python3"
  },
  "language_info": {
   "codemirror_mode": {
    "name": "ipython",
    "version": 3
   },
   "file_extension": ".py",
   "mimetype": "text/x-python",
   "name": "python",
   "nbconvert_exporter": "python",
   "pygments_lexer": "ipython3",
   "version": "3.13.2"
  }
 },
 "nbformat": 4,
 "nbformat_minor": 4
}
