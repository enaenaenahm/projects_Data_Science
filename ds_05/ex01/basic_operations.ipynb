{
 "cells": [
  {
   "cell_type": "code",
   "execution_count": null,
   "metadata": {},
   "outputs": [],
   "source": [
    "import pandas as pd\n",
    "\n",
    "views = pd.read_csv(\"../data/feed-views.log\", sep=\"\\t\", names=[\"datetime\", \"user\"])\n",
    "views[\"datetime\"] = pd.to_datetime(views[\"datetime\"])\n",
    "## Extracting date and time components\n",
    "views[\"year\"] = views[\"datetime\"].dt.year\n",
    "views[\"month\"] = views[\"datetime\"].dt.month\n",
    "views[\"day\"] = views[\"datetime\"].dt.day\n",
    "views[\"hour\"] = views[\"datetime\"].dt.hour\n",
    "views[\"minute\"] = views[\"datetime\"].dt.minute\n",
    "views[\"second\"] = views[\"datetime\"].dt.second\n",
    "## Creating a daytime column\n",
    "bins = [0, 4, 7, 11, 17, 20, 24]\n",
    "labels = [\"night\", \"early morning\", \"morning\", \"afternoon\", \"early evening\", \"evening\"]\n",
    "\n",
    "views[\"daytime\"] = pd.cut(\n",
    "    views[\"hour\"],\n",
    "    bins=bins,\n",
    "    labels=labels,\n",
    "    right=False,\n",
    "    include_lowest=True\n",
    ")\n",
    "## Index\n",
    "views.set_index(\"user\", inplace=True)\n",
    "## Number of elements\n",
    "views.count()\n",
    "## Quantity by category daytime\n",
    "views[\"daytime\"].value_counts()\n",
    "## Sort by time\n",
    "views_sorted = views.sort_values(by=[\"hour\", \"minute\", \"second\"])\n",
    "## min/max and time mode\n",
    "views[\"hour\"].min(), views[\"hour\"].max()\n",
    "views[\"datetime\"].mode()\n",
    "## Maximum hour for night, minimum for morning and who was it\n",
    "night_max = views[views[\"daytime\"] == \"night\"][\"hour\"].max()\n",
    "morning_min = views[views[\"daytime\"] == \"morning\"][\"hour\"].min()\n",
    "\n",
    "visitor_night = views[views[\"hour\"] == night_max].head(1)\n",
    "visitor_morning = views[views[\"hour\"] == morning_min].head(1)\n",
    "## Hour and daytime modes\n",
    "views[\"hour\"].mode()\n",
    "views[\"daytime\"].mode()\n",
    "## 3 earliest visits in the morning and 3 latest hours\n",
    "morning_users = views[views[\"daytime\"] == \"morning\"]\n",
    "morning_users.nsmallest(3, \"hour\")\n",
    "views.nlargest(3, \"hour\")\n",
    "## Statistics\n",
    "views[[\"hour\", \"minute\", \"second\"]].describe()\n",
    "## Calculating IQR for an hour\n",
    "desc = views[\"hour\"].describe()\n",
    "iqr = desc[\"75%\"] - desc[\"25%\"]\n",
    "iqr\n"
   ]
  },
  {
   "cell_type": "code",
   "execution_count": null,
   "metadata": {},
   "outputs": [],
   "source": []
  }
 ],
 "metadata": {
  "kernelspec": {
   "display_name": "Python 3 (ipykernel)",
   "language": "python",
   "name": "python3"
  },
  "language_info": {
   "codemirror_mode": {
    "name": "ipython",
    "version": 3
   },
   "file_extension": ".py",
   "mimetype": "text/x-python",
   "name": "python",
   "nbconvert_exporter": "python",
   "pygments_lexer": "ipython3",
   "version": "3.13.2"
  }
 },
 "nbformat": 4,
 "nbformat_minor": 4
}
