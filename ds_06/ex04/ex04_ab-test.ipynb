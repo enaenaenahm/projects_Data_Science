{
 "cells": [
  {
   "cell_type": "code",
   "execution_count": 107,
   "metadata": {},
   "outputs": [],
   "source": [
    "import pandas as pd, sqlite3\n",
    "\n",
    "conn = sqlite3.connect(\"../data/checking-logs.sqlite\")"
   ]
  },
  {
   "cell_type": "code",
   "execution_count": 108,
   "metadata": {},
   "outputs": [
    {
     "name": "stdout",
     "output_type": "stream",
     "text": [
      "        name\n",
      "0  pageviews\n",
      "1    checker\n",
      "2  deadlines\n",
      "3   datamart\n",
      "4       test\n",
      "5    control\n"
     ]
    }
   ],
   "source": [
    "tables = pd.io.sql.read_sql(\"\"\"\n",
    "    SELECT name\n",
    "    FROM sqlite_master\n",
    "    WHERE type = 'table';\n",
    "    \"\"\", conn)\n",
    "print(tables)"
   ]
  },
  {
   "cell_type": "code",
   "execution_count": 109,
   "metadata": {},
   "outputs": [],
   "source": [
    "## Results for test: before and after first_view_ts\n",
    "query_test = \"\"\"\n",
    "SELECT\n",
    "    CASE\n",
    "        WHEN c.first_commit_ts < c.first_view_ts THEN 'before'\n",
    "        ELSE 'after'\n",
    "    END AS time,\n",
    "    AVG((julianday(c.first_commit_ts) - julianday(datetime(d.deadlines, 'unixepoch'))) * 24) AS avg_diff\n",
    "FROM test c\n",
    "JOIN deadlines d ON c.labname = d.labs\n",
    "WHERE c.labname != 'project1'\n",
    "    AND EXISTS (\n",
    "        SELECT 1 FROM test c2\n",
    "        WHERE c2.uid = c.uid\n",
    "            AND c2.first_commit_ts < c2.first_view_ts\n",
    "    )\n",
    "    AND EXISTS (\n",
    "        SELECT 1 FROM test c2\n",
    "        WHERE c2.uid = c.uid\n",
    "            AND c2.first_commit_ts < c2.first_view_ts\n",
    "    )\n",
    "GROUP BY time;\n",
    "\"\"\"\n",
    "test_results = pd.read_sql(query_test, conn)"
   ]
  },
  {
   "cell_type": "code",
   "execution_count": 110,
   "metadata": {},
   "outputs": [],
   "source": [
    "query_control = f\"\"\"\n",
    "SELECT\n",
    "    CASE\n",
    "        WHEN c.first_commit_ts < avg_view_ts THEN 'before'\n",
    "        ELSE 'after'\n",
    "    END AS time,\n",
    "    AVG((julianday(c.first_commit_ts) - julianday(datetime(d.deadlines, 'unixepoch'))) * 24) AS avg_diff\n",
    "    SELECT *, {avg_ts_value} AS avg_view_ts FROM control\n",
    ") c\n",
    "JOIN deadlines d ON c.labname = d.labs\n",
    "WHERE c.labname != 'project1'\n",
    "  AND EXISTS (\n",
    "    SELECT 1 FROM control c2\n",
    "    WHERE c2.uid = c.uid\n",
    "      AND c2.first_commit_ts < {avg_ts_value}\n",
    "  )\n",
    "  AND EXISTS (\n",
    "    SELECT 1 FROM control c2\n",
    "    WHERE c2.uid = c.uid\n",
    "      AND c2.first_commit_ts > {avg_ts_value}\n",
    "  )\n",
    "GROUP BY time;\n",
    "\"\"\"\n",
    "control_results = pd.io.sql.read_sql(control_query, conn)\n",
    "control_results.columns = ['time','AVG(diff)']"
   ]
  },
  {
   "cell_type": "code",
   "execution_count": 111,
   "metadata": {},
   "outputs": [
    {
     "data": {
      "text/html": [
       "<div>\n",
       "<style scoped>\n",
       "    .dataframe tbody tr th:only-of-type {\n",
       "        vertical-align: middle;\n",
       "    }\n",
       "\n",
       "    .dataframe tbody tr th {\n",
       "        vertical-align: top;\n",
       "    }\n",
       "\n",
       "    .dataframe thead th {\n",
       "        text-align: right;\n",
       "    }\n",
       "</style>\n",
       "<table border=\"1\" class=\"dataframe\">\n",
       "  <thead>\n",
       "    <tr style=\"text-align: right;\">\n",
       "      <th></th>\n",
       "      <th>time</th>\n",
       "      <th>AVG(diff)</th>\n",
       "    </tr>\n",
       "  </thead>\n",
       "  <tbody>\n",
       "    <tr>\n",
       "      <th>0</th>\n",
       "      <td>after</td>\n",
       "      <td>-118.144425</td>\n",
       "    </tr>\n",
       "    <tr>\n",
       "      <th>1</th>\n",
       "      <td>before</td>\n",
       "      <td>-99.901295</td>\n",
       "    </tr>\n",
       "  </tbody>\n",
       "</table>\n",
       "</div>"
      ],
      "text/plain": [
       "     time   AVG(diff)\n",
       "0   after -118.144425\n",
       "1  before  -99.901295"
      ]
     },
     "execution_count": 111,
     "metadata": {},
     "output_type": "execute_result"
    }
   ],
   "source": [
    "control_results"
   ]
  },
  {
   "cell_type": "code",
   "execution_count": 112,
   "metadata": {},
   "outputs": [
    {
     "data": {
      "text/html": [
       "<div>\n",
       "<style scoped>\n",
       "    .dataframe tbody tr th:only-of-type {\n",
       "        vertical-align: middle;\n",
       "    }\n",
       "\n",
       "    .dataframe tbody tr th {\n",
       "        vertical-align: top;\n",
       "    }\n",
       "\n",
       "    .dataframe thead th {\n",
       "        text-align: right;\n",
       "    }\n",
       "</style>\n",
       "<table border=\"1\" class=\"dataframe\">\n",
       "  <thead>\n",
       "    <tr style=\"text-align: right;\">\n",
       "      <th></th>\n",
       "      <th>time</th>\n",
       "      <th>avg_diff</th>\n",
       "    </tr>\n",
       "  </thead>\n",
       "  <tbody>\n",
       "    <tr>\n",
       "      <th>0</th>\n",
       "      <td>after</td>\n",
       "      <td>-94.473704</td>\n",
       "    </tr>\n",
       "    <tr>\n",
       "      <th>1</th>\n",
       "      <td>before</td>\n",
       "      <td>-61.156438</td>\n",
       "    </tr>\n",
       "  </tbody>\n",
       "</table>\n",
       "</div>"
      ],
      "text/plain": [
       "     time   avg_diff\n",
       "0   after -94.473704\n",
       "1  before -61.156438"
      ]
     },
     "execution_count": 112,
     "metadata": {},
     "output_type": "execute_result"
    }
   ],
   "source": [
    "test_results"
   ]
  },
  {
   "cell_type": "code",
   "execution_count": 113,
   "metadata": {},
   "outputs": [],
   "source": [
    "conn.close()"
   ]
  },
  {
   "cell_type": "code",
   "execution_count": null,
   "metadata": {},
   "outputs": [],
   "source": []
  }
 ],
 "metadata": {
  "kernelspec": {
   "display_name": "Python 3 (ipykernel)",
   "language": "python",
   "name": "python3"
  },
  "language_info": {
   "codemirror_mode": {
    "name": "ipython",
    "version": 3
   },
   "file_extension": ".py",
   "mimetype": "text/x-python",
   "name": "python",
   "nbconvert_exporter": "python",
   "pygments_lexer": "ipython3",
   "version": "3.13.2"
  }
 },
 "nbformat": 4,
 "nbformat_minor": 4
}
